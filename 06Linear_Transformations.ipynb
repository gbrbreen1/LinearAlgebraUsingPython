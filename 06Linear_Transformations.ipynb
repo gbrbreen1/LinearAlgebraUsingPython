{
  "nbformat": 4,
  "nbformat_minor": 0,
  "metadata": {
    "kernelspec": {
      "display_name": "Python 3",
      "language": "python",
      "name": "python3"
    },
    "language_info": {
      "codemirror_mode": {
        "name": "ipython",
        "version": 3
      },
      "file_extension": ".py",
      "mimetype": "text/x-python",
      "name": "python",
      "nbconvert_exporter": "python",
      "pygments_lexer": "ipython3",
      "version": "3.6.2"
    },
    "colab": {
      "name": "06Linear Transformations.ipynb",
      "provenance": []
    }
  },
  "cells": [
    {
      "cell_type": "markdown",
      "metadata": {
        "id": "SA_9Jtm5zpxt"
      },
      "source": [
        "\n",
        "<h1 align=center> Linear Algebra: Chapter 6 (Linear Transformations)</h1>\n",
        "\n"
      ]
    },
    {
      "cell_type": "markdown",
      "metadata": {
        "id": "VdLwKMAC0IAj"
      },
      "source": [
        "This course is developed by Dr. Mohamed Gabr (gbrbreen2@gmail.com) as an introduction to mathematics for AI. The course focuses on using Python for Linear Algebra calculations."
      ]
    },
    {
      "cell_type": "markdown",
      "metadata": {
        "id": "G6IKFHFHH_v8"
      },
      "source": [
        "# introduction to transformations"
      ]
    },
    {
      "cell_type": "markdown",
      "metadata": {
        "id": "FJUi4whXGPnk"
      },
      "source": [
        "Some transformations found in geometry are performed by moving objects around systematically and not changing their shape or size. Other transformations make more dramatic changes to geometric figures. Linear transformations even incorporate some of the geometric transformational processes. But linear transformations in this chapter have some restrictions, as well as opening up many more mathematical possibilities.\n",
        "\n",
        "Linear transformations are very specific types of processes in mathematics. They often involve mathematical structures such as vectors and matrices; the transformations also incorporate mathematical operations. Some of the operations used by linear transformations are your everyday addition and multiplication; others are specific to the type of mathematical structure that the operation is being performed upon.\n",
        "\n",
        "In mathematics, a transformation is an operation, function, or mapping in which one set of elements is transformed into another set of elementsز\n",
        "\n",
        "A linear transformation is a particular type of transformation in which one set of vectors is transformed into another vector set using some linear operator. Also part of the definition of a linear transformation is that the sets and operator are bound by the following two properties:\n",
        "\n",
        "1- Performing the transformation on the sum of any two vectors in the set has the same result as performing the transformation on the vectors independently and then adding the resulting vectors together.\n",
        "\n",
        "2- Performing the transformation on a scalar multiple of a vector has the same result as performing the transformation on the vector and then multiplying by that scalar."
      ]
    },
    {
      "cell_type": "markdown",
      "metadata": {
        "id": "2bczpX5hHDR6"
      },
      "source": [
        "“Transformation T takes a 3 × 1 vector and transforms it into a 2 × 1 vector. The elements in the 2 × 1 vector are a sum and difference of some elements in the 3 × 1 vector.” Perform transformation (T) on a vector v by writing T(v) and we normally use the matrix A for transformation."
      ]
    },
    {
      "cell_type": "code",
      "metadata": {
        "colab": {
          "base_uri": "https://localhost:8080/"
        },
        "id": "6MGVE92RF-Un",
        "outputId": "3db3b558-3409-4fd5-f4fe-5f7f86510f3e"
      },
      "source": [
        "import numpy as np\n",
        "v=np.array([5,1,-2])\n",
        "A=np.array([[2,0,1],[3,1,-1],[4,3,0]])\n",
        "Av=A.dot(v)\n",
        "print(Av)\n",
        "print('###################')\n",
        "print(np.matmul(A,v))"
      ],
      "execution_count": 1,
      "outputs": [
        {
          "output_type": "stream",
          "text": [
            "[ 8 18 23]\n",
            "###################\n",
            "[ 8 18 23]\n"
          ],
          "name": "stdout"
        }
      ]
    },
    {
      "cell_type": "code",
      "metadata": {
        "colab": {
          "base_uri": "https://localhost:8080/"
        },
        "id": "GF8muRvHF-Uo",
        "outputId": "c0bbfce7-3bee-483c-84fb-23b8b452202d"
      },
      "source": [
        "v=np.array([5,1,-2])\n",
        "B=np.array([[2,3,0],[-1,-2,3]])\n",
        "Bv=B.dot(v)\n",
        "print(Bv)\n",
        "print('###################')\n",
        "print(np.matmul(B,v))"
      ],
      "execution_count": 2,
      "outputs": [
        {
          "output_type": "stream",
          "text": [
            "[ 13 -13]\n",
            "###################\n",
            "[ 13 -13]\n"
          ],
          "name": "stdout"
        }
      ]
    },
    {
      "cell_type": "code",
      "metadata": {
        "collapsed": true,
        "id": "IQCdin2VF-Up"
      },
      "source": [
        "# If T is a linear transformation matrix and u and v are vectors and c is a scalar, then:\n",
        "# ✓ T(u + v) = T(u) + T(v)\n",
        "# ✓ T(cv) = cT(v)"
      ],
      "execution_count": 3,
      "outputs": []
    },
    {
      "cell_type": "code",
      "metadata": {
        "colab": {
          "base_uri": "https://localhost:8080/"
        },
        "id": "uvIlz2r5F-Uq",
        "outputId": "f47a9ea0-c0dd-4697-9bdd-16719ea32104"
      },
      "source": [
        "u=np.array([6,-5])\n",
        "v=np.array([-4,-1])\n",
        "T=np.array([[2,3],[-1,-2]])\n",
        "print(u+v)\n",
        "print('##################')\n",
        "print(T.dot(u+v))\n",
        "print('##################')\n",
        "print(T.dot(u)+T.dot(v)) # same result as T(u+v)"
      ],
      "execution_count": 5,
      "outputs": [
        {
          "output_type": "stream",
          "text": [
            "[ 2 -6]\n",
            "##################\n",
            "[-14  10]\n",
            "##################\n",
            "[-14  10]\n"
          ],
          "name": "stdout"
        }
      ]
    },
    {
      "cell_type": "code",
      "metadata": {
        "colab": {
          "base_uri": "https://localhost:8080/"
        },
        "id": "UoYjhBdoF-Us",
        "outputId": "349c49d5-e3f1-4fad-ee37-f524f7ef3e80"
      },
      "source": [
        "c=5\n",
        "print(T.dot(c*v))\n",
        "print('##################')\n",
        "print(c*T.dot(v))# same result as T(c*v)"
      ],
      "execution_count": 6,
      "outputs": [
        {
          "output_type": "stream",
          "text": [
            "[-55  30]\n",
            "##################\n",
            "[-55  30]\n"
          ],
          "name": "stdout"
        }
      ]
    },
    {
      "cell_type": "markdown",
      "metadata": {
        "id": "_LY0zNkHIIzq"
      },
      "source": [
        "# properties of transformations"
      ]
    },
    {
      "cell_type": "code",
      "metadata": {
        "collapsed": true,
        "id": "hAksN-mgF-Uu"
      },
      "source": [
        ""
      ],
      "execution_count": null,
      "outputs": []
    },
    {
      "cell_type": "markdown",
      "metadata": {
        "id": "h0X-fukeIPCC"
      },
      "source": [
        "Transformation composition is actually more like an embedded operation. When you perform the composition transformation T1 followed by transformation T2, you first perform transformation T2 on the vector v and then perform transformation T1 on the result.\n",
        "\n",
        "Transformation composition is defined as (T1T2)(v)= T1(T2(v))\n",
        "\n",
        "The associative property has to do with the grouping of the transformations,not the order. In general, you can’t change the order of performing transformations\n",
        "and get the same result. But, with careful arrangements of transfor mations and dimension, you do get to see the associative property in action when composing transformations. The associative property states that when you perform transformation composition on the first of two transformations and then the result on a third, you get the same result as performing the composition on the last two transformations and then performing the transformation described by the first on the result of those second two.\n",
        "\n",
        "Whew! It’s more understandable written symbolically: Given the vector v and the linear transformations T1, T2, and T3\n",
        "\n",
        "([T1T2]T3)(v)= (T1[T2T3])(v)\n",
        "\n",
        "In case of scalar multiplication, Given the vector v and the linear transformations T1 and T2:\n",
        "\n",
        "c([T1T2])(v) = ([cT1]T2)(v) = (T1[cT2])(v)      or,\n",
        "\n",
        "c[T1T2] = [cT1]T2 = T1[cT2]\n",
        "No matter where you introduce the scalar multiple, the result is the same."
      ]
    },
    {
      "cell_type": "code",
      "metadata": {
        "colab": {
          "base_uri": "https://localhost:8080/"
        },
        "id": "REVi3t3LF-Uv",
        "outputId": "4c1e06f0-b485-426d-b6d2-ef9e58db9457"
      },
      "source": [
        "# (T1T2)(v)= T1(T2(v))\n",
        "v=np.array([-4,-1])\n",
        "T1=np.array([[1,0],[0,2]])\n",
        "T2=np.array([[1,1],[0,1]])\n",
        "print(T1.dot(T2).dot(v))\n",
        "print('#############')\n",
        "print(T1.dot(T2.dot(v)))# same result of (T1T2)(v)\n",
        "print('#############')\n",
        "print('#############')\n",
        "print('#############')\n",
        "\n",
        "\n",
        "print(T2.dot(T1).dot(v))# not the same result if we change the order of matrices\n",
        "print('#############')\n",
        "print(T2.dot(T1.dot(v)))"
      ],
      "execution_count": 7,
      "outputs": [
        {
          "output_type": "stream",
          "text": [
            "[-5 -2]\n",
            "#############\n",
            "[-5 -2]\n",
            "#############\n",
            "#############\n",
            "#############\n",
            "[-6 -2]\n",
            "#############\n",
            "[-6 -2]\n"
          ],
          "name": "stdout"
        }
      ]
    },
    {
      "cell_type": "code",
      "metadata": {
        "collapsed": true,
        "id": "bq9s4sUJF-Uv"
      },
      "source": [
        "originalVector=np.array([3,2]) #original vector"
      ],
      "execution_count": 8,
      "outputs": []
    },
    {
      "cell_type": "code",
      "metadata": {
        "colab": {
          "base_uri": "https://localhost:8080/"
        },
        "id": "WC5flVS6F-Uw",
        "outputId": "43a9e1ae-5144-4c04-91d1-5a326378cec2"
      },
      "source": [
        "#stretching by 3 in X and 2 in Y\n",
        "stretchingMatrix=np.array([[3,0],[0,2]])\n",
        "stretchingMatrix.dot(originalVector)"
      ],
      "execution_count": 9,
      "outputs": [
        {
          "output_type": "execute_result",
          "data": {
            "text/plain": [
              "array([9, 4])"
            ]
          },
          "metadata": {
            "tags": []
          },
          "execution_count": 9
        }
      ]
    },
    {
      "cell_type": "markdown",
      "metadata": {
        "id": "p7Nq-iGkIv4i"
      },
      "source": [
        "## mirroring"
      ]
    },
    {
      "cell_type": "code",
      "metadata": {
        "colab": {
          "base_uri": "https://localhost:8080/"
        },
        "id": "cmC_ZipPF-Ux",
        "outputId": "54b6484e-2454-4765-c1cc-290f0606e1d3"
      },
      "source": [
        "# miroring over the line y=x\n",
        "inversionMatrix=np.array([[0,1],[1,0]])\n",
        "inversionMatrix.dot(originalVector)"
      ],
      "execution_count": 10,
      "outputs": [
        {
          "output_type": "execute_result",
          "data": {
            "text/plain": [
              "array([2, 3])"
            ]
          },
          "metadata": {
            "tags": []
          },
          "execution_count": 10
        }
      ]
    },
    {
      "cell_type": "code",
      "metadata": {
        "colab": {
          "base_uri": "https://localhost:8080/"
        },
        "id": "Ptu0LI0nF-Ux",
        "outputId": "9f2d84b7-9e1e-4b9f-e90b-a9b2800c49f5"
      },
      "source": [
        "# miroring over the line y=-x\n",
        "inversionMatrix=np.array([[0,-1],[-1,0]])\n",
        "inversionMatrix.dot(originalVector)"
      ],
      "execution_count": 11,
      "outputs": [
        {
          "output_type": "execute_result",
          "data": {
            "text/plain": [
              "array([-2, -3])"
            ]
          },
          "metadata": {
            "tags": []
          },
          "execution_count": 11
        }
      ]
    },
    {
      "cell_type": "code",
      "metadata": {
        "colab": {
          "base_uri": "https://localhost:8080/"
        },
        "id": "WK9WGWRBF-Uy",
        "outputId": "f5176266-8df2-411b-82b9-5434efdbcfbf"
      },
      "source": [
        "# miroring over the y-axis\n",
        "inversionMatrix=np.array([[-1,0],[0,1]])\n",
        "inversionMatrix.dot(originalVector)"
      ],
      "execution_count": 12,
      "outputs": [
        {
          "output_type": "execute_result",
          "data": {
            "text/plain": [
              "array([-3,  2])"
            ]
          },
          "metadata": {
            "tags": []
          },
          "execution_count": 12
        }
      ]
    },
    {
      "cell_type": "code",
      "metadata": {
        "colab": {
          "base_uri": "https://localhost:8080/"
        },
        "id": "gytUk0aWF-Uy",
        "outputId": "6e3272c6-032f-47b9-99b4-ea7ba0a4345d"
      },
      "source": [
        "# miroring over the x-axis\n",
        "inversionMatrix=np.array([[1,0],[0,-1]])\n",
        "inversionMatrix.dot(originalVector)"
      ],
      "execution_count": 13,
      "outputs": [
        {
          "output_type": "execute_result",
          "data": {
            "text/plain": [
              "array([ 3, -2])"
            ]
          },
          "metadata": {
            "tags": []
          },
          "execution_count": 13
        }
      ]
    },
    {
      "cell_type": "markdown",
      "metadata": {
        "id": "WX_m6tHMI37d"
      },
      "source": [
        "## shearing"
      ]
    },
    {
      "cell_type": "code",
      "metadata": {
        "colab": {
          "base_uri": "https://localhost:8080/"
        },
        "id": "fHNPwT_1F-Uz",
        "outputId": "2af17b14-0f06-4e0f-93a5-2c9a730c0a99"
      },
      "source": [
        "inversionMatrix=np.array([[1,1],[0,1]])\n",
        "inversionMatrix.dot(originalVector)"
      ],
      "execution_count": 14,
      "outputs": [
        {
          "output_type": "execute_result",
          "data": {
            "text/plain": [
              "array([5, 2])"
            ]
          },
          "metadata": {
            "tags": []
          },
          "execution_count": 14
        }
      ]
    },
    {
      "cell_type": "markdown",
      "metadata": {
        "id": "SKppShfjI8bB"
      },
      "source": [
        "## rotation"
      ]
    },
    {
      "cell_type": "code",
      "metadata": {
        "colab": {
          "base_uri": "https://localhost:8080/"
        },
        "id": "rOo-ijQTF-Uz",
        "outputId": "23d3cecd-2bcd-4a24-efda-e5d3383356ca"
      },
      "source": [
        "inversionMatrix=np.array([[0,-1],[1,0]])\n",
        "inversionMatrix.dot(originalVector)"
      ],
      "execution_count": 15,
      "outputs": [
        {
          "output_type": "execute_result",
          "data": {
            "text/plain": [
              "array([-2,  3])"
            ]
          },
          "metadata": {
            "tags": []
          },
          "execution_count": 15
        }
      ]
    },
    {
      "cell_type": "markdown",
      "metadata": {
        "id": "96cZmdfVJJxa"
      },
      "source": [
        "## null space"
      ]
    },
    {
      "cell_type": "markdown",
      "metadata": {
        "id": "cYnrxb8nJOAh"
      },
      "source": [
        "A special result of a linear transformation is that in which every element in the resulting vector is a 0. The kernel of a linear transformation is also referred to as the null space. The kernel and range of a linear transformation are related in that they’re both results of performing the linear transformation. The kernel is a special portion, and the range is everything that happens.\n",
        "\n",
        "When the linear transformation T from a given set of vectors to another set of vectors results in one or more 0 vectors, then the original vectors, v1, v2, v3, . . .for which T(v) = 0 are called the kernel or null space of the set of vectors.\n",
        "\n",
        "Nullspace: the nullspace of a matrix A is the set of vectors, that gives the zero vector, when multiplied by matrix A (e.g. Ax=0)"
      ]
    },
    {
      "cell_type": "code",
      "metadata": {
        "colab": {
          "base_uri": "https://localhost:8080/"
        },
        "id": "5MxvTWuJF-U0",
        "outputId": "e0c9d8c7-4098-43e3-fdcd-260e1d0698fd"
      },
      "source": [
        "from sympy import Matrix\n",
        "A = Matrix([[1, 2, 3, 0, 0], [4, 10, 0, 0, 1]])\n",
        "print(A.nullspace())"
      ],
      "execution_count": 16,
      "outputs": [
        {
          "output_type": "stream",
          "text": [
            "[Matrix([\n",
            "[-15],\n",
            "[  6],\n",
            "[  1],\n",
            "[  0],\n",
            "[  0]]), Matrix([\n",
            "[0],\n",
            "[0],\n",
            "[0],\n",
            "[1],\n",
            "[0]]), Matrix([\n",
            "[   1],\n",
            "[-1/2],\n",
            "[   0],\n",
            "[   0],\n",
            "[   1]])]\n"
          ],
          "name": "stdout"
        }
      ]
    },
    {
      "cell_type": "code",
      "metadata": {
        "colab": {
          "base_uri": "https://localhost:8080/",
          "height": 58
        },
        "id": "RUueviNsF-U0",
        "outputId": "1951604e-ab3e-4eb4-b45c-f06a0a87a2c5"
      },
      "source": [
        "A*A.nullspace()[0] # to be sure we multiply the nullspace by the first vector in the resulting matrix (nullspace matrix)"
      ],
      "execution_count": 17,
      "outputs": [
        {
          "output_type": "execute_result",
          "data": {
            "text/latex": "$\\displaystyle \\left[\\begin{matrix}0\\\\0\\end{matrix}\\right]$",
            "text/plain": [
              "Matrix([\n",
              "[0],\n",
              "[0]])"
            ]
          },
          "metadata": {
            "tags": []
          },
          "execution_count": 17
        }
      ]
    },
    {
      "cell_type": "code",
      "metadata": {
        "colab": {
          "base_uri": "https://localhost:8080/",
          "height": 58
        },
        "id": "hDL5kHJkF-U0",
        "outputId": "224d35c6-578b-41f4-fb44-f62fd2ec5ab8"
      },
      "source": [
        "A*A.nullspace()[1] # to be sure we multiply the nullspace by the second vector in the resulting matrix (nullspace matrix)"
      ],
      "execution_count": 18,
      "outputs": [
        {
          "output_type": "execute_result",
          "data": {
            "text/latex": "$\\displaystyle \\left[\\begin{matrix}0\\\\0\\end{matrix}\\right]$",
            "text/plain": [
              "Matrix([\n",
              "[0],\n",
              "[0]])"
            ]
          },
          "metadata": {
            "tags": []
          },
          "execution_count": 18
        }
      ]
    },
    {
      "cell_type": "code",
      "metadata": {
        "collapsed": true,
        "id": "mmL-EJIfF-U0"
      },
      "source": [
        ""
      ],
      "execution_count": 19,
      "outputs": []
    },
    {
      "cell_type": "markdown",
      "metadata": {
        "id": "1eTGQQLwJeh6"
      },
      "source": [
        "Nullspace and the relation with linear independence: \n",
        "\n",
        "If the column vectors of the square matrix (columns after making them vectors) are linearly independent, the nullspace of the matrix is only going to be the zero vector. In other words, if the nullspace of the matrix is the zero vector, the column vectors (the columns) of the matrix are linearly independent"
      ]
    },
    {
      "cell_type": "code",
      "metadata": {
        "colab": {
          "base_uri": "https://localhost:8080/"
        },
        "id": "tM2w5JaVF-U1",
        "outputId": "7b69bef8-9e74-4377-94af-f51950e2f3a2"
      },
      "source": [
        "B=Matrix([[2,5,3],[1,1,1],[4,-2,0]])\n",
        "# myLinearlyIndependentColumns= Matrix([[2,1,4],[5,1,-2],[3,1,0]])\n",
        "B.nullspace() # the result is the zero vector. In the next cell, let us check if the column vectors are linearly independent"
      ],
      "execution_count": 20,
      "outputs": [
        {
          "output_type": "execute_result",
          "data": {
            "text/plain": [
              "[]"
            ]
          },
          "metadata": {
            "tags": []
          },
          "execution_count": 20
        }
      ]
    },
    {
      "cell_type": "code",
      "metadata": {
        "colab": {
          "base_uri": "https://localhost:8080/"
        },
        "id": "elRqHJoXF-U1",
        "outputId": "9f3bfb86-a327-4b99-ff6c-e801397a4ce5"
      },
      "source": [
        "B=np.array([[2,5,3],[1,1,1],[4,-2,0]])\n",
        "print(B)\n",
        "print(np.linalg.det(B)) # the determinant is not zero. So, the matrix is linearly independent\n",
        "\n",
        "# here, we transpose the matrix\n",
        "V =  np.transpose(B)#transpose\n",
        "print(V)\n",
        "np.linalg.det(V) # the determinant is not zero. So, the transpose of the matrix is linearly independent"
      ],
      "execution_count": 21,
      "outputs": [
        {
          "output_type": "stream",
          "text": [
            "[[ 2  5  3]\n",
            " [ 1  1  1]\n",
            " [ 4 -2  0]]\n",
            "5.999999999999998\n",
            "[[ 2  1  4]\n",
            " [ 5  1 -2]\n",
            " [ 3  1  0]]\n"
          ],
          "name": "stdout"
        },
        {
          "output_type": "execute_result",
          "data": {
            "text/plain": [
              "5.999999999999996"
            ]
          },
          "metadata": {
            "tags": []
          },
          "execution_count": 21
        }
      ]
    }
  ]
}