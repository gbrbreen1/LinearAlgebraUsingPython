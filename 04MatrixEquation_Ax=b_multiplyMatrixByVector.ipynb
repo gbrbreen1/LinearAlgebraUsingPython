{
  "nbformat": 4,
  "nbformat_minor": 0,
  "metadata": {
    "kernelspec": {
      "display_name": "Python 3",
      "language": "python",
      "name": "python3"
    },
    "language_info": {
      "codemirror_mode": {
        "name": "ipython",
        "version": 3
      },
      "file_extension": ".py",
      "mimetype": "text/x-python",
      "name": "python",
      "nbconvert_exporter": "python",
      "pygments_lexer": "ipython3",
      "version": "3.6.2"
    },
    "colab": {
      "name": "04MatrixEquation_Ax=b_multiplyMatrixByVector.ipynb",
      "provenance": []
    }
  },
  "cells": [
    {
      "cell_type": "markdown",
      "metadata": {
        "id": "SA_9Jtm5zpxt"
      },
      "source": [
        "\n",
        "<h1 align=center> Linear Algebra: Chapter 4 (Multiply matrix by vector)</h1>\n",
        "\n"
      ]
    },
    {
      "cell_type": "markdown",
      "metadata": {
        "id": "VdLwKMAC0IAj"
      },
      "source": [
        "This course is developed by Dr. Mohamed Gabr (gbrbreen2@gmail.com) as an introduction to mathematics for AI. The course focuses on using Python for Linear Algebra calculations."
      ]
    },
    {
      "cell_type": "markdown",
      "metadata": {
        "id": "Kgg91TLeCp-p"
      },
      "source": [
        "# introduction"
      ]
    },
    {
      "cell_type": "markdown",
      "metadata": {
        "id": "qQzbuAztCs4M"
      },
      "source": [
        "Matrices have two completely different types of products (matrix by vector & matrix by matrix). When preparing to perform multiplication involving matrices, you first take note of why you want to multiply them and then decide how. When you multiply an m × n matrix times an n × p matrix, your result is an m × p matrix. To multiply a matrix by a vector in Python, we can use \"matmul\" or \"dot\"."
      ]
    },
    {
      "cell_type": "code",
      "metadata": {
        "colab": {
          "base_uri": "https://localhost:8080/"
        },
        "id": "r7Ma5oNFCdHy",
        "outputId": "ed8b5ce2-119a-4af8-fcff-879da64e16b0"
      },
      "source": [
        "import numpy as np\n",
        "myVector=np.array([1,-3,2,2]) #original vector\n",
        "myMatrix=np.array([[2,3,1,0],[-1,4,1,-3]])\n",
        "matrixByVector=myMatrix.dot(myVector)\n",
        "print (matrixByVector)\n",
        "print('##########')\n",
        "print(np.matmul(myMatrix,myVector))"
      ],
      "execution_count": 1,
      "outputs": [
        {
          "output_type": "stream",
          "text": [
            "[ -5 -17]\n",
            "##########\n",
            "[ -5 -17]\n"
          ],
          "name": "stdout"
        }
      ]
    },
    {
      "cell_type": "markdown",
      "metadata": {
        "id": "M891BuGNDGs_"
      },
      "source": [
        "Finding x in the equation Ax=b.... we conside matrix A multiplied by x (the unknown) as the leftSide and vector b as the right side and we solve it (either it has one of infinite or no solution)"
      ]
    },
    {
      "cell_type": "code",
      "metadata": {
        "colab": {
          "base_uri": "https://localhost:8080/"
        },
        "id": "Hu3-Zn41CdH1",
        "outputId": "b1599926-32f4-4095-e00c-a73f85f3748c"
      },
      "source": [
        "b=np.array([2,10,20,17])\n",
        "A=np.array([[1,-2,2,1],[1,-1,5,0],[2,-2,11,2],[0,2,8,1]])\n",
        "x=np.linalg.solve(A,b)\n",
        "print(x)\n",
        "print('#######################')\n",
        "print(np.linalg.lstsq(A,b, rcond=None))\n",
        "print('#######################')\n",
        "print(A.dot(x)) # now we are sure that Ax=b=[2,10,20,17]"
      ],
      "execution_count": 3,
      "outputs": [
        {
          "output_type": "stream",
          "text": [
            "[ 1.  1.  2. -1.]\n",
            "#######################\n",
            "(array([ 1.,  1.,  2., -1.]), array([], dtype=float64), 4, array([14.96840391,  3.74321874,  0.96688002,  0.01845894]))\n",
            "#######################\n",
            "[ 2. 10. 20. 17.]\n"
          ],
          "name": "stdout"
        }
      ]
    },
    {
      "cell_type": "code",
      "metadata": {
        "colab": {
          "base_uri": "https://localhost:8080/"
        },
        "id": "xFBr5YL3CdH2",
        "outputId": "74c4a13b-277a-4eea-e599-1484450303be"
      },
      "source": [
        "b=np.array([-30,90,45])\n",
        "A=np.array([[-1,4,2],[3,0,-2],[5,4,3]])\n",
        "x=np.linalg.solve(A,b)\n",
        "print(x)"
      ],
      "execution_count": 4,
      "outputs": [
        {
          "output_type": "stream",
          "text": [
            "[ 16.   7. -21.]\n"
          ],
          "name": "stdout"
        }
      ]
    }
  ]
}