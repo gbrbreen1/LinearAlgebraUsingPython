{
  "nbformat": 4,
  "nbformat_minor": 0,
  "metadata": {
    "kernelspec": {
      "display_name": "Python 3",
      "language": "python",
      "name": "python3"
    },
    "language_info": {
      "codemirror_mode": {
        "name": "ipython",
        "version": 3
      },
      "file_extension": ".py",
      "mimetype": "text/x-python",
      "name": "python",
      "nbconvert_exporter": "python",
      "pygments_lexer": "ipython3",
      "version": "3.6.2"
    },
    "colab": {
      "name": "010OrthognalityAndTransformation.ipynb",
      "provenance": []
    }
  },
  "cells": [
    {
      "cell_type": "markdown",
      "metadata": {
        "id": "SA_9Jtm5zpxt"
      },
      "source": [
        "\n",
        "<h1 align=center> Linear Algebra: Chapter 10 (Orthognality And Transformation)</h1>\n",
        "\n"
      ]
    },
    {
      "cell_type": "markdown",
      "metadata": {
        "id": "VdLwKMAC0IAj"
      },
      "source": [
        "This course is developed by Dr. Mohamed Gabr (gbrbreen2@gmail.com) as an introduction to mathematics for AI. The course focuses on using Python for Linear Algebra calculations."
      ]
    },
    {
      "cell_type": "markdown",
      "metadata": {
        "id": "xCnRhFbKksm2"
      },
      "source": [
        "Orthognality: Two lines, segments, or planes are said to be orthogonal if they’re perpendicular to one another. The slope of a line is determined by finding the difference between the y-coordinates of two points on the line and dividing that difference by the difference between the corresponding x-coordinates of the points on that line.\n",
        "\n",
        "And, further, two lines are perpendicular (form a right angle) if the product of their slopes is –1. (Then they’re negative reciprocals of one another.). Note:(The reciprocal of a number is equal to 1 divided by the number.)\n",
        "\n",
        "When dealing with vectors, you determine if they’re perpendicular to one another by finding their inner product. If the inner product of vectors uTv(the transpose of u multiplied by v) is equal to 0, then the vectors are perpendicular. This means the angle between them is 90 degrees."
      ]
    },
    {
      "cell_type": "markdown",
      "metadata": {
        "id": "GA1_AXDelJev"
      },
      "source": [
        "## Checking perpendicularity using slopes"
      ]
    },
    {
      "cell_type": "markdown",
      "metadata": {
        "id": "NqrlYHe9lTvd"
      },
      "source": [
        "Checking perpendicularity using the transpose of one vector"
      ]
    },
    {
      "cell_type": "code",
      "metadata": {
        "colab": {
          "base_uri": "https://localhost:8080/"
        },
        "id": "a4XsOaNRkXG0",
        "outputId": "74a6601d-1320-4ae5-e116-58a7565e4718"
      },
      "source": [
        "import numpy as np\n",
        "u2=np.array([6,2])\n",
        "v2=np.array([-1,3])\n",
        "\n",
        "print(u2.dot(v2.transpose())) # the inner product/ The dot product equals 0. this means the angle between the vectors is 90 degrees\n",
        "print(v2.dot(u2.transpose()))"
      ],
      "execution_count": null,
      "outputs": [
        {
          "output_type": "stream",
          "text": [
            "0\n",
            "0\n"
          ],
          "name": "stdout"
        }
      ]
    },
    {
      "cell_type": "markdown",
      "metadata": {
        "id": "f2lCQgeUlh7O"
      },
      "source": [
        "Measuring the angle between 2 vectors u and v: \n",
        "\n",
        " u.v=||u||.||v||cosθ\n",
        "\n",
        "where u · v is the inner product of the two vectors, ||u|| and ||v|| are the respective magnitudes of the vectors, and cosθ is the measure (counterclockwise) of the angle formed between the two vectors."
      ]
    },
    {
      "cell_type": "code",
      "metadata": {
        "colab": {
          "base_uri": "https://localhost:8080/"
        },
        "id": "FK_GC5oKkXG2",
        "outputId": "82f5cde7-2927-4c87-adef-2dea71132da6"
      },
      "source": [
        "u3=np.array([6,2])\n",
        "v3=np.array([-1,3])\n",
        "innerAngleCosine=(u3.dot(v3))/(np.linalg.norm(u3)*np.linalg.norm(v3))\n",
        "print(innerAngleCosine)"
      ],
      "execution_count": null,
      "outputs": [
        {
          "output_type": "stream",
          "text": [
            "0.0\n"
          ],
          "name": "stdout"
        }
      ]
    },
    {
      "cell_type": "markdown",
      "metadata": {
        "id": "Yrz__ErUlyL9"
      },
      "source": [
        "It is always good in data science to use orthognal matrices when we transform our data as it will ease claculating the transpose and the inverse which will ease the transformation\n",
        "\n",
        "A n×n matrix A is an orthogonal matrix if its transpose is equal to its inverse & if we multiply the matrix by its transpose, The result is the identity matrix. also the determinant of the matrix is =+/-1. rows are orthognal to each other and also columns.\n",
        "\n",
        "We normally use The Gram-Scmidt process to form orthognal basis vector set to make orthognal transformation.\n",
        "\n",
        "An orthogonal set is a set of vectors in which each pair of vectors is orthogonal(every vector is orthogonal to every other vector in the set).\n",
        "\n",
        "An orthogonal set is linearly independent, as long as the set doesn’t contain the 0 vector."
      ]
    },
    {
      "cell_type": "markdown",
      "metadata": {
        "id": "Xi8Q3mEfmH-1"
      },
      "source": [
        "## Checking orthognality by the transpose of a matrix"
      ]
    },
    {
      "cell_type": "code",
      "metadata": {
        "colab": {
          "base_uri": "https://localhost:8080/"
        },
        "id": "OQG_nFbEkXG5",
        "outputId": "a2cc18d9-ecce-4df6-c358-020eb796a71c"
      },
      "source": [
        "myMatrix=np.array([[1,2],[3,4]])\n",
        "myMatrixTransposed=myMatrix.transpose()\n",
        "myMatrixTransposed"
      ],
      "execution_count": null,
      "outputs": [
        {
          "output_type": "execute_result",
          "data": {
            "text/plain": [
              "array([[1, 3],\n",
              "       [2, 4]])"
            ]
          },
          "metadata": {
            "tags": []
          },
          "execution_count": 3
        }
      ]
    },
    {
      "cell_type": "code",
      "metadata": {
        "colab": {
          "base_uri": "https://localhost:8080/"
        },
        "id": "tZ81iWA4kXG6",
        "outputId": "685b4a11-0870-49d2-a062-896bbe2eba67"
      },
      "source": [
        "myMatrixInversed=np.linalg.inv(myMatrix)\n",
        "myMatrixInversed # it is clear that the transpose doesn't equal the inverse"
      ],
      "execution_count": null,
      "outputs": [
        {
          "output_type": "execute_result",
          "data": {
            "text/plain": [
              "array([[-2. ,  1. ],\n",
              "       [ 1.5, -0.5]])"
            ]
          },
          "metadata": {
            "tags": []
          },
          "execution_count": 4
        }
      ]
    },
    {
      "cell_type": "code",
      "metadata": {
        "colab": {
          "base_uri": "https://localhost:8080/"
        },
        "id": "ybcIvu26kXG6",
        "outputId": "ddfefec3-5a32-4093-99d7-671094df2e7c"
      },
      "source": [
        "myMatrix=np.array([[-0.3092,-0.9510],[-0.9510, 0.3092]])\n",
        "myMatrixTransposed=myMatrix.transpose()\n",
        "myMatrixTransposed"
      ],
      "execution_count": null,
      "outputs": [
        {
          "output_type": "execute_result",
          "data": {
            "text/plain": [
              "array([[-0.3092, -0.951 ],\n",
              "       [-0.951 ,  0.3092]])"
            ]
          },
          "metadata": {
            "tags": []
          },
          "execution_count": 5
        }
      ]
    },
    {
      "cell_type": "markdown",
      "metadata": {
        "id": "LXaS1ndomaFN"
      },
      "source": [
        "## Checking orthognality by the inverse of a matrix"
      ]
    },
    {
      "cell_type": "code",
      "metadata": {
        "colab": {
          "base_uri": "https://localhost:8080/"
        },
        "id": "uLSGVYefkXG7",
        "outputId": "eadfe0b4-109c-4aba-aa98-95d4e0199ae3"
      },
      "source": [
        "myMatrixInversed=np.linalg.inv(myMatrix)\n",
        "myMatrixInversed # it is clear that the transpose equals the inverse"
      ],
      "execution_count": null,
      "outputs": [
        {
          "output_type": "execute_result",
          "data": {
            "text/plain": [
              "array([[-0.30919826, -0.95099464],\n",
              "       [-0.95099464,  0.30919826]])"
            ]
          },
          "metadata": {
            "tags": []
          },
          "execution_count": 6
        }
      ]
    },
    {
      "cell_type": "code",
      "metadata": {
        "colab": {
          "base_uri": "https://localhost:8080/"
        },
        "id": "KwlvtbPVkXG7",
        "outputId": "d961ca53-ab45-42b2-802e-60344e9be752"
      },
      "source": [
        "myMatrixTransposed*myMatrix"
      ],
      "execution_count": null,
      "outputs": [
        {
          "output_type": "execute_result",
          "data": {
            "text/plain": [
              "array([[0.09560464, 0.904401  ],\n",
              "       [0.904401  , 0.09560464]])"
            ]
          },
          "metadata": {
            "tags": []
          },
          "execution_count": 7
        }
      ]
    },
    {
      "cell_type": "code",
      "metadata": {
        "colab": {
          "base_uri": "https://localhost:8080/"
        },
        "id": "FWwPLXy9kXG8",
        "outputId": "49282e9f-d640-475e-9b83-a47dd46968f6"
      },
      "source": [
        "myMatrix*myMatrixTransposed"
      ],
      "execution_count": null,
      "outputs": [
        {
          "output_type": "execute_result",
          "data": {
            "text/plain": [
              "array([[0.09560464, 0.904401  ],\n",
              "       [0.904401  , 0.09560464]])"
            ]
          },
          "metadata": {
            "tags": []
          },
          "execution_count": 8
        }
      ]
    },
    {
      "cell_type": "markdown",
      "metadata": {
        "id": "Fl2nabTYmkJc"
      },
      "source": [
        "## Determinant of orthognal matrix"
      ]
    },
    {
      "cell_type": "code",
      "metadata": {
        "colab": {
          "base_uri": "https://localhost:8080/"
        },
        "id": "D7WPhZ5ykXG8",
        "outputId": "23d9f8c3-3d4f-48f1-95a0-fd2d59d983fc"
      },
      "source": [
        "np.linalg.det(myMatrix) #the determinant equals -1==> orthognal matrix"
      ],
      "execution_count": null,
      "outputs": [
        {
          "output_type": "execute_result",
          "data": {
            "text/plain": [
              "-1.00000564"
            ]
          },
          "metadata": {
            "tags": []
          },
          "execution_count": 9
        }
      ]
    },
    {
      "cell_type": "code",
      "metadata": {
        "colab": {
          "base_uri": "https://localhost:8080/"
        },
        "id": "VLM9yFjDkXG9",
        "outputId": "9327cce5-b123-4791-f80f-bdd91af37c71"
      },
      "source": [
        "# using the Gram-Schmidt process to form an orthognal matrix from a non-orthoganl matrix\n",
        "def gram_schmidt_columns(X):\n",
        "    Q, R = np.linalg.qr(X)\n",
        "    return Q\n",
        "nonOrthoMatrix=np.array([[1,-1,0],[-2,3,1],[1,2,4]])\n",
        "print(gram_schmidt_columns(np.asarray(nonOrthoMatrix)))"
      ],
      "execution_count": null,
      "outputs": [
        {
          "output_type": "stream",
          "text": [
            "[[-0.40824829  0.0531494  -0.91132238]\n",
            " [ 0.81649658 -0.4251952  -0.39056673]\n",
            " [-0.40824829 -0.90353981  0.13018891]]\n"
          ],
          "name": "stdout"
        }
      ]
    },
    {
      "cell_type": "code",
      "metadata": {
        "id": "e7FeHe-YkXG9",
        "outputId": "1fcc81f5-9442-4799-c550-cbd23e208c93"
      },
      "source": [
        "np.linalg.det(gram_schmidt_columns(np.asarray(nonOrthoMatrix))) # the determinant equals 1==> orthognal matrix"
      ],
      "execution_count": null,
      "outputs": [
        {
          "output_type": "execute_result",
          "data": {
            "text/plain": [
              "1.0000000000000004"
            ]
          },
          "metadata": {
            "tags": []
          },
          "execution_count": 29
        }
      ]
    },
    {
      "cell_type": "markdown",
      "metadata": {
        "id": "roSLV9mkm59l"
      },
      "source": [
        "The orthonormal basis:\n",
        "\n",
        "An orthonormal basis consists of vectors that all have a magnitude. The magnitude of a vector, designated ||v|| is the square root of the sum of the squares of the elements of the vector.\n",
        "\n",
        "The process needed to change to an orthonormal basis is really relatively simple. You just multiply each vector in the orthogonal basis by the reciprocal of the square root of its inner product.\n",
        "\n",
        "Note: (The reciprocal of a number is equal to 1 divided by the number.)"
      ]
    },
    {
      "cell_type": "code",
      "metadata": {
        "colab": {
          "base_uri": "https://localhost:8080/"
        },
        "id": "MWJEuZRekXG-",
        "outputId": "60c1cb95-c29c-472d-d2db-e56c49849509"
      },
      "source": [
        "import scipy.linalg as sc\n",
        "print(sc.orth(gram_schmidt_columns(np.asarray(nonOrthoMatrix))))\n",
        "print(sc.orth(gram_schmidt_columns(np.asarray(nonOrthoMatrix)))[:,0])# the first column\n",
        "print(np.linalg.norm(sc.orth(gram_schmidt_columns(np.asarray(nonOrthoMatrix)))[:,0]))# the norm/ magnitude of it is 1\n",
        "print(np.linalg.norm(sc.orth(gram_schmidt_columns(np.asarray(nonOrthoMatrix)))[:,1]))# the norm/ magnitude of it is 1\n",
        "print(np.linalg.norm(sc.orth(gram_schmidt_columns(np.asarray(nonOrthoMatrix)))[:,2]))# the norm/ magnitude of it is 1\n",
        "# s all the magnitudes equal 1 ===> the matrix is orthonormal"
      ],
      "execution_count": null,
      "outputs": [
        {
          "output_type": "stream",
          "text": [
            "[[-0.79134238 -0.40824829 -0.45509403]\n",
            " [-0.53948658  0.81649658  0.2056394 ]\n",
            " [-0.28763078 -0.40824829  0.86637282]]\n",
            "[-0.79134238 -0.53948658 -0.28763078]\n",
            "1.0\n",
            "1.0\n",
            "1.0\n"
          ],
          "name": "stdout"
        }
      ]
    },
    {
      "cell_type": "code",
      "metadata": {
        "collapsed": true,
        "id": "3T6oUg_KkXG-"
      },
      "source": [
        ""
      ],
      "execution_count": null,
      "outputs": []
    }
  ]
}