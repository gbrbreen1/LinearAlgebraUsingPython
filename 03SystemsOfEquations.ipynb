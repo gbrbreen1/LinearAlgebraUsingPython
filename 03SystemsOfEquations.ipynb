{
  "nbformat": 4,
  "nbformat_minor": 0,
  "metadata": {
    "kernelspec": {
      "display_name": "Python 3",
      "language": "python",
      "name": "python3"
    },
    "language_info": {
      "codemirror_mode": {
        "name": "ipython",
        "version": 3
      },
      "file_extension": ".py",
      "mimetype": "text/x-python",
      "name": "python",
      "nbconvert_exporter": "python",
      "pygments_lexer": "ipython3",
      "version": "3.6.2"
    },
    "colab": {
      "name": "03SystemsOfEquations.ipynb",
      "provenance": []
    }
  },
  "cells": [
    {
      "cell_type": "markdown",
      "metadata": {
        "id": "SA_9Jtm5zpxt"
      },
      "source": [
        "\n",
        "<h1 align=center> Linear Algebra: Chapter 3 (Systems of equations)</h1>\n",
        "\n"
      ]
    },
    {
      "cell_type": "markdown",
      "metadata": {
        "id": "VdLwKMAC0IAj"
      },
      "source": [
        "This course is developed by Dr. Mohamed Gabr (gbrbreen2@gmail.com) as an introduction to mathematics for AI. The course focuses on using Python for Linear Algebra calculations."
      ]
    },
    {
      "cell_type": "markdown",
      "metadata": {
        "id": "_hAg5j91A8Na"
      },
      "source": [
        "# Introduction to systems of equations"
      ]
    },
    {
      "cell_type": "markdown",
      "metadata": {
        "id": "yA5V4hz-BAhC"
      },
      "source": [
        "A system of equations has a solution when you have at least one set of numbers that replaces the variables in the equations and makes each equation read as a true statement. A system of equations may have more than one solution.\n",
        "\n",
        "A system of equations is consistent if it has at least one solution. A system with exactly one solution has two characteristics that distinguish it from other systems: The system consists of linear equations, and you have as many independent equations as there are variables (If the system contains three variables, then it must contain at least three independent equations.)"
      ]
    },
    {
      "cell_type": "code",
      "metadata": {
        "colab": {
          "base_uri": "https://localhost:8080/"
        },
        "id": "9dW8TZ-AAolp",
        "outputId": "2fc73192-618a-40c8-a039-6ec53721ac19"
      },
      "source": [
        "# 2 equations with one solution\n",
        "# 1a + 1b = 35\n",
        "# 2a + 4b = 94\n",
        "\n",
        "import numpy as np\n",
        "leftSide = np.array([[1, 1],[2,4]])\n",
        "rightSide = np.array([35, 94])\n",
        "\n",
        "print(np.linalg.solve(leftSide,rightSide))\n",
        "print('#########')\n",
        "print(np.linalg.lstsq(leftSide,rightSide, rcond=None)[0])#to get infinite solutions, we use lstsq"
      ],
      "execution_count": 1,
      "outputs": [
        {
          "output_type": "stream",
          "text": [
            "[23. 12.]\n",
            "#########\n",
            "[23. 12.]\n"
          ],
          "name": "stdout"
        }
      ]
    },
    {
      "cell_type": "code",
      "metadata": {
        "colab": {
          "base_uri": "https://localhost:8080/"
        },
        "id": "uXbhcfwCAolq",
        "outputId": "66fd5242-5f87-4b26-9a99-39cdd9304930"
      },
      "source": [
        "leftSide = np.array([[2,3],[4,-3]])\n",
        "rightSide = np.array([23,1])\n",
        "print(np.linalg.solve(leftSide,rightSide))"
      ],
      "execution_count": 2,
      "outputs": [
        {
          "output_type": "stream",
          "text": [
            "[4. 5.]\n"
          ],
          "name": "stdout"
        }
      ]
    },
    {
      "cell_type": "code",
      "metadata": {
        "colab": {
          "base_uri": "https://localhost:8080/"
        },
        "id": "kMrq01dbAolr",
        "outputId": "99083965-a3c2-47c2-bb06-b8f26a66ea49"
      },
      "source": [
        "#3 equations with one solution\n",
        "# 2x+3y+z=14\n",
        "# 4x-y+5z=10\n",
        "# x+2y-3z=5\n",
        "\n",
        "leftSide=np.array([[2,3,1],[4,-1,5],[1,2,-3]])\n",
        "rightSide=np.array([14,10,5])\n",
        "print(np.linalg.solve(leftSide,rightSide))#to get one solution, we use solve\n",
        "print('#########')\n",
        "print(np.linalg.lstsq(leftSide,rightSide, rcond=None)[0])#to get infinite solutions, we use lstsq\n",
        "## the values that makes the system of equations consistent are  x=2, y=3, z=0"
      ],
      "execution_count": 3,
      "outputs": [
        {
          "output_type": "stream",
          "text": [
            "[2. 3. 1.]\n",
            "#########\n",
            "[2. 3. 1.]\n"
          ],
          "name": "stdout"
        }
      ]
    },
    {
      "cell_type": "code",
      "metadata": {
        "colab": {
          "base_uri": "https://localhost:8080/"
        },
        "id": "SrFTy6E7Aols",
        "outputId": "5d36d2b4-c729-43cd-f119-fac8c4630390"
      },
      "source": [
        "# 3 equations with infinite number of solutions\n",
        "# -x+y+z=-1\n",
        "# -x+2y-3z=-4\n",
        "# 3x-2y-7z=0\n",
        "\n",
        "leftSide=np.array([[-1,1,1],[-1,2,-3],[3,-2,-7]])\n",
        "rightSide=np.array([-1,-4,0])\n",
        "print(np.linalg.solve(leftSide,rightSide))# the values that makes the system of equations consistent are  x=-2, y=-3, z=0\n",
        "print('#########')\n",
        "print(np.linalg.lstsq(leftSide,rightSide, rcond=None)[0])"
      ],
      "execution_count": 4,
      "outputs": [
        {
          "output_type": "stream",
          "text": [
            "[-2. -3.  0.]\n",
            "#########\n",
            "[ 0.61904762 -0.9047619   0.52380952]\n"
          ],
          "name": "stdout"
        }
      ]
    },
    {
      "cell_type": "code",
      "metadata": {
        "colab": {
          "base_uri": "https://localhost:8080/",
          "height": 387
        },
        "id": "IbkVhP4aAolt",
        "outputId": "7004e335-e833-4550-8ed1-80a27dcef05c"
      },
      "source": [
        "# 2 equations with no solution\n",
        "# 2x +  y = 5\n",
        "# 6x + 3y = 1\n",
        "\n",
        "leftSide = np.array([[2, 1],[6,3]])\n",
        "rightSide = np.array([5, 1])\n",
        "\n",
        "print(np.linalg.lstsq(leftSide,rightSide, rcond=None))\n",
        "print(np.linalg.solve(leftSide,rightSide))# it gives singular matrix and this means there is no solution. may be the lines are parallel"
      ],
      "execution_count": 5,
      "outputs": [
        {
          "output_type": "stream",
          "text": [
            "(array([0.32, 0.16]), array([], dtype=float64), 1, array([7.07106781e+00, 4.77629022e-16]))\n"
          ],
          "name": "stdout"
        },
        {
          "output_type": "error",
          "ename": "LinAlgError",
          "evalue": "ignored",
          "traceback": [
            "\u001b[0;31m---------------------------------------------------------------------------\u001b[0m",
            "\u001b[0;31mLinAlgError\u001b[0m                               Traceback (most recent call last)",
            "\u001b[0;32m<ipython-input-5-8510724894f7>\u001b[0m in \u001b[0;36m<module>\u001b[0;34m()\u001b[0m\n\u001b[1;32m      7\u001b[0m \u001b[0;34m\u001b[0m\u001b[0m\n\u001b[1;32m      8\u001b[0m \u001b[0mprint\u001b[0m\u001b[0;34m(\u001b[0m\u001b[0mnp\u001b[0m\u001b[0;34m.\u001b[0m\u001b[0mlinalg\u001b[0m\u001b[0;34m.\u001b[0m\u001b[0mlstsq\u001b[0m\u001b[0;34m(\u001b[0m\u001b[0mleftSide\u001b[0m\u001b[0;34m,\u001b[0m\u001b[0mrightSide\u001b[0m\u001b[0;34m,\u001b[0m \u001b[0mrcond\u001b[0m\u001b[0;34m=\u001b[0m\u001b[0;32mNone\u001b[0m\u001b[0;34m)\u001b[0m\u001b[0;34m)\u001b[0m\u001b[0;34m\u001b[0m\u001b[0;34m\u001b[0m\u001b[0m\n\u001b[0;32m----> 9\u001b[0;31m \u001b[0mprint\u001b[0m\u001b[0;34m(\u001b[0m\u001b[0mnp\u001b[0m\u001b[0;34m.\u001b[0m\u001b[0mlinalg\u001b[0m\u001b[0;34m.\u001b[0m\u001b[0msolve\u001b[0m\u001b[0;34m(\u001b[0m\u001b[0mleftSide\u001b[0m\u001b[0;34m,\u001b[0m\u001b[0mrightSide\u001b[0m\u001b[0;34m)\u001b[0m\u001b[0;34m)\u001b[0m\u001b[0;31m# it gives singular matrix and this means there is no solution. may be the lines are parallel\u001b[0m\u001b[0;34m\u001b[0m\u001b[0;34m\u001b[0m\u001b[0m\n\u001b[0m",
            "\u001b[0;32m<__array_function__ internals>\u001b[0m in \u001b[0;36msolve\u001b[0;34m(*args, **kwargs)\u001b[0m\n",
            "\u001b[0;32m/usr/local/lib/python3.7/dist-packages/numpy/linalg/linalg.py\u001b[0m in \u001b[0;36msolve\u001b[0;34m(a, b)\u001b[0m\n\u001b[1;32m    392\u001b[0m     \u001b[0msignature\u001b[0m \u001b[0;34m=\u001b[0m \u001b[0;34m'DD->D'\u001b[0m \u001b[0;32mif\u001b[0m \u001b[0misComplexType\u001b[0m\u001b[0;34m(\u001b[0m\u001b[0mt\u001b[0m\u001b[0;34m)\u001b[0m \u001b[0;32melse\u001b[0m \u001b[0;34m'dd->d'\u001b[0m\u001b[0;34m\u001b[0m\u001b[0;34m\u001b[0m\u001b[0m\n\u001b[1;32m    393\u001b[0m     \u001b[0mextobj\u001b[0m \u001b[0;34m=\u001b[0m \u001b[0mget_linalg_error_extobj\u001b[0m\u001b[0;34m(\u001b[0m\u001b[0m_raise_linalgerror_singular\u001b[0m\u001b[0;34m)\u001b[0m\u001b[0;34m\u001b[0m\u001b[0;34m\u001b[0m\u001b[0m\n\u001b[0;32m--> 394\u001b[0;31m     \u001b[0mr\u001b[0m \u001b[0;34m=\u001b[0m \u001b[0mgufunc\u001b[0m\u001b[0;34m(\u001b[0m\u001b[0ma\u001b[0m\u001b[0;34m,\u001b[0m \u001b[0mb\u001b[0m\u001b[0;34m,\u001b[0m \u001b[0msignature\u001b[0m\u001b[0;34m=\u001b[0m\u001b[0msignature\u001b[0m\u001b[0;34m,\u001b[0m \u001b[0mextobj\u001b[0m\u001b[0;34m=\u001b[0m\u001b[0mextobj\u001b[0m\u001b[0;34m)\u001b[0m\u001b[0;34m\u001b[0m\u001b[0;34m\u001b[0m\u001b[0m\n\u001b[0m\u001b[1;32m    395\u001b[0m \u001b[0;34m\u001b[0m\u001b[0m\n\u001b[1;32m    396\u001b[0m     \u001b[0;32mreturn\u001b[0m \u001b[0mwrap\u001b[0m\u001b[0;34m(\u001b[0m\u001b[0mr\u001b[0m\u001b[0;34m.\u001b[0m\u001b[0mastype\u001b[0m\u001b[0;34m(\u001b[0m\u001b[0mresult_t\u001b[0m\u001b[0;34m,\u001b[0m \u001b[0mcopy\u001b[0m\u001b[0;34m=\u001b[0m\u001b[0;32mFalse\u001b[0m\u001b[0;34m)\u001b[0m\u001b[0;34m)\u001b[0m\u001b[0;34m\u001b[0m\u001b[0;34m\u001b[0m\u001b[0m\n",
            "\u001b[0;32m/usr/local/lib/python3.7/dist-packages/numpy/linalg/linalg.py\u001b[0m in \u001b[0;36m_raise_linalgerror_singular\u001b[0;34m(err, flag)\u001b[0m\n\u001b[1;32m     86\u001b[0m \u001b[0;34m\u001b[0m\u001b[0m\n\u001b[1;32m     87\u001b[0m \u001b[0;32mdef\u001b[0m \u001b[0m_raise_linalgerror_singular\u001b[0m\u001b[0;34m(\u001b[0m\u001b[0merr\u001b[0m\u001b[0;34m,\u001b[0m \u001b[0mflag\u001b[0m\u001b[0;34m)\u001b[0m\u001b[0;34m:\u001b[0m\u001b[0;34m\u001b[0m\u001b[0;34m\u001b[0m\u001b[0m\n\u001b[0;32m---> 88\u001b[0;31m     \u001b[0;32mraise\u001b[0m \u001b[0mLinAlgError\u001b[0m\u001b[0;34m(\u001b[0m\u001b[0;34m\"Singular matrix\"\u001b[0m\u001b[0;34m)\u001b[0m\u001b[0;34m\u001b[0m\u001b[0;34m\u001b[0m\u001b[0m\n\u001b[0m\u001b[1;32m     89\u001b[0m \u001b[0;34m\u001b[0m\u001b[0m\n\u001b[1;32m     90\u001b[0m \u001b[0;32mdef\u001b[0m \u001b[0m_raise_linalgerror_nonposdef\u001b[0m\u001b[0;34m(\u001b[0m\u001b[0merr\u001b[0m\u001b[0;34m,\u001b[0m \u001b[0mflag\u001b[0m\u001b[0;34m)\u001b[0m\u001b[0;34m:\u001b[0m\u001b[0;34m\u001b[0m\u001b[0;34m\u001b[0m\u001b[0m\n",
            "\u001b[0;31mLinAlgError\u001b[0m: Singular matrix"
          ]
        }
      ]
    },
    {
      "cell_type": "code",
      "metadata": {
        "colab": {
          "base_uri": "https://localhost:8080/"
        },
        "id": "CEGYYjnrAolu",
        "outputId": "0e7d6134-f9dd-4963-9e31-5775a7490e8b"
      },
      "source": [
        "# augmented matrix\n",
        "leftSide=np.array([[-1,-1,-1],[4,5,0],[0,1,-3]])\n",
        "rightSide=np.array([3,-6,5])\n",
        "print(np.linalg.solve(leftSide,rightSide))"
      ],
      "execution_count": 6,
      "outputs": [
        {
          "output_type": "stream",
          "text": [
            "[-4.  2. -1.]\n"
          ],
          "name": "stdout"
        }
      ]
    },
    {
      "cell_type": "code",
      "metadata": {
        "colab": {
          "base_uri": "https://localhost:8080/"
        },
        "id": "Rx2e6LPyAolv",
        "outputId": "f479d056-cd4e-4c06-d8c6-cf4a92148ebd"
      },
      "source": [
        "leftSide = np.array([[.10,.50,.15],[.05,0,.15],[0,.4,.1]])\n",
        "rightSide = np.array([1,1,1])\n",
        "print(np.linalg.solve(leftSide,rightSide))"
      ],
      "execution_count": 7,
      "outputs": [
        {
          "output_type": "stream",
          "text": [
            "[-4.54545455  0.45454545  8.18181818]\n"
          ],
          "name": "stdout"
        }
      ]
    },
    {
      "cell_type": "code",
      "metadata": {
        "colab": {
          "base_uri": "https://localhost:8080/"
        },
        "id": "xYr4dYvVAolx",
        "outputId": "09c1c24d-7f6b-44cf-9c2e-4cf18ae83f9d"
      },
      "source": [
        "# check the solution\n",
        "np.matmul(leftSide, np.linalg.solve(leftSide,rightSide))"
      ],
      "execution_count": 8,
      "outputs": [
        {
          "output_type": "execute_result",
          "data": {
            "text/plain": [
              "array([1., 1., 1.])"
            ]
          },
          "metadata": {
            "tags": []
          },
          "execution_count": 8
        }
      ]
    },
    {
      "cell_type": "code",
      "metadata": {
        "colab": {
          "base_uri": "https://localhost:8080/"
        },
        "id": "f6Jy-HMBAolx",
        "outputId": "3042f56e-4fe5-40e7-e61b-9907ee5e0d9c"
      },
      "source": [
        "leftSide = np.array([[-1,-1,-1],[4,5,0],[0,1,-3]])\n",
        "rightSide = np.array([3,-6,5])\n",
        "print(np.linalg.solve(leftSide,rightSide))"
      ],
      "execution_count": 9,
      "outputs": [
        {
          "output_type": "stream",
          "text": [
            "[-4.  2. -1.]\n"
          ],
          "name": "stdout"
        }
      ]
    },
    {
      "cell_type": "markdown",
      "metadata": {
        "collapsed": true,
        "id": "qR8B_MvVAolx"
      },
      "source": [
        "# solving non-linear equations using numpy"
      ]
    },
    {
      "cell_type": "code",
      "metadata": {
        "colab": {
          "base_uri": "https://localhost:8080/"
        },
        "id": "8Z2cY9dTAoly",
        "outputId": "51a8b0f0-f09c-4039-de5b-d0ac312cfbd6"
      },
      "source": [
        "# eample source: https://www.youtube.com/watch?v=S4Qg2CsiIj8\n",
        "\n",
        "from numpy import*\n",
        "from scipy.optimize import *\n",
        "\n",
        "\n",
        "def func(z):\n",
        "    x = z[0]\n",
        "    y = z[1]\n",
        "    #L = X[2] # this is the multiplier. lambda is a reserved keyword in python\n",
        "    \n",
        "    F=empty((2))# create a list of 2 dimensions but empty\n",
        "    F[0]=pow(x,2)+pow(y,2)-20 # x**2+y**2-20\n",
        "    F[1]=y-pow(x,2)\n",
        "    \n",
        "    return F\n",
        "\n",
        "# let us create some guess values of z by creating an array and making the guess values of x,y as 1,1\n",
        "zGuess=array([1,1])\n",
        "z=fsolve(func,zGuess)\n",
        "print(z)"
      ],
      "execution_count": 10,
      "outputs": [
        {
          "output_type": "stream",
          "text": [
            "[2. 4.]\n"
          ],
          "name": "stdout"
        }
      ]
    }
  ]
}