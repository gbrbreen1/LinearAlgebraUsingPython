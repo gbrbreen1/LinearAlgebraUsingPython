{
  "nbformat": 4,
  "nbformat_minor": 0,
  "metadata": {
    "kernelspec": {
      "display_name": "Python 3",
      "language": "python",
      "name": "python3"
    },
    "language_info": {
      "codemirror_mode": {
        "name": "ipython",
        "version": 3
      },
      "file_extension": ".py",
      "mimetype": "text/x-python",
      "name": "python",
      "nbconvert_exporter": "python",
      "pygments_lexer": "ipython3",
      "version": "3.6.2"
    },
    "colab": {
      "name": "01Vectors",
      "provenance": []
    }
  },
  "cells": [
    {
      "cell_type": "markdown",
      "metadata": {
        "id": "SA_9Jtm5zpxt"
      },
      "source": [
        "\n",
        "<h1 align=center> Linear Algebra: Chapter 1 (Vectors)</h1>\n",
        "\n"
      ]
    },
    {
      "cell_type": "markdown",
      "metadata": {
        "id": "VdLwKMAC0IAj"
      },
      "source": [
        "This course is developed by Dr. Mohamed Gabr as an introduction to mathematics for AI. The course focuses on using Python for Linear Algebra calculations."
      ]
    },
    {
      "cell_type": "code",
      "metadata": {
        "collapsed": true,
        "id": "0e9YNTpryRwA"
      },
      "source": [
        "#A vector is a matrix with just one column and one or more rows; a vector is also called a column vector.\n",
        "#vectors are represented by a small letter. For example \"a\""
      ],
      "execution_count": 31,
      "outputs": []
    },
    {
      "cell_type": "markdown",
      "metadata": {
        "id": "dUb8umNA1x9Q"
      },
      "source": [
        "#vector addition"
      ]
    },
    {
      "cell_type": "markdown",
      "metadata": {
        "id": "o0wQS4R42WTa"
      },
      "source": [
        "Normally, we write vectors in math like this (1,2). In Python, we write vectors like this [1,2]"
      ]
    },
    {
      "cell_type": "code",
      "metadata": {
        "colab": {
          "base_uri": "https://localhost:8080/"
        },
        "id": "pXE32WAkyRwE",
        "outputId": "1e8ff07a-c190-45a0-e216-73009c3509f7"
      },
      "source": [
        "import numpy as np\n",
        "vector_a=np.array([3,7])\n",
        "vector_b=np.array([15,9])\n",
        "vectorAddition=vector_a+vector_b\n",
        "\n",
        "#Now, we change the order of the vectors\n",
        "inverseVectorAddition=vector_b+vector_a\n",
        "print(vectorAddition)\n",
        "print(inverseVectorAddition)"
      ],
      "execution_count": 32,
      "outputs": [
        {
          "output_type": "stream",
          "text": [
            "[18 16]\n",
            "[18 16]\n"
          ],
          "name": "stdout"
        }
      ]
    },
    {
      "cell_type": "markdown",
      "metadata": {
        "id": "yyaBE7QY12jE"
      },
      "source": [
        "#vector subtraction"
      ]
    },
    {
      "cell_type": "code",
      "metadata": {
        "colab": {
          "base_uri": "https://localhost:8080/"
        },
        "id": "OcEYvB6_yRwG",
        "outputId": "12f72dff-e26e-41d0-ba1a-6440a763d175"
      },
      "source": [
        "vectorSubtraction=vector_a-vector_b\n",
        "inverseVectorSubtraction=vector_b-vector_a\n",
        "print(vectorSubtraction)\n",
        "print(inverseVectorSubtraction)"
      ],
      "execution_count": 33,
      "outputs": [
        {
          "output_type": "stream",
          "text": [
            "[-12  -2]\n",
            "[12  2]\n"
          ],
          "name": "stdout"
        }
      ]
    },
    {
      "cell_type": "code",
      "metadata": {
        "colab": {
          "base_uri": "https://localhost:8080/"
        },
        "id": "sXbU8iISyRwH",
        "outputId": "3c71ecec-efb8-41c9-848c-9f044261d9c1"
      },
      "source": [
        "print(vector_a+(-vector_a))\n",
        "print(vector_a-vector_a)"
      ],
      "execution_count": 34,
      "outputs": [
        {
          "output_type": "stream",
          "text": [
            "[0 0]\n",
            "[0 0]\n"
          ],
          "name": "stdout"
        }
      ]
    },
    {
      "cell_type": "code",
      "metadata": {
        "collapsed": true,
        "id": "1Jh-fvPpyRwI"
      },
      "source": [
        ""
      ],
      "execution_count": 34,
      "outputs": []
    },
    {
      "cell_type": "markdown",
      "metadata": {
        "id": "xgPOyQLD2JFC"
      },
      "source": [
        "#-vector - vector in the other direction"
      ]
    },
    {
      "cell_type": "code",
      "metadata": {
        "colab": {
          "base_uri": "https://localhost:8080/"
        },
        "id": "dSPAvaLt2Ny4",
        "outputId": "6e50dc65-0d8e-495c-c06f-a3c7dc26fd7f"
      },
      "source": [
        "print(vector_a)"
      ],
      "execution_count": 35,
      "outputs": [
        {
          "output_type": "stream",
          "text": [
            "[3 7]\n"
          ],
          "name": "stdout"
        }
      ]
    },
    {
      "cell_type": "code",
      "metadata": {
        "colab": {
          "base_uri": "https://localhost:8080/"
        },
        "id": "pajmtulbyRwJ",
        "outputId": "6a3eebdb-923d-4fe4-a665-b30c26fe4670"
      },
      "source": [
        "print(-vector_a)"
      ],
      "execution_count": 36,
      "outputs": [
        {
          "output_type": "stream",
          "text": [
            "[-3 -7]\n"
          ],
          "name": "stdout"
        }
      ]
    },
    {
      "cell_type": "markdown",
      "metadata": {
        "id": "N9UYLbGp1_ub"
      },
      "source": [
        "#scalar multiplication"
      ]
    },
    {
      "cell_type": "code",
      "metadata": {
        "colab": {
          "base_uri": "https://localhost:8080/"
        },
        "id": "AID4KNCXyRwK",
        "outputId": "81c8595e-2db6-4440-cf87-dff0da71212c"
      },
      "source": [
        "print(3*vector_a)\n",
        "print(-3*vector_a)"
      ],
      "execution_count": 37,
      "outputs": [
        {
          "output_type": "stream",
          "text": [
            "[ 9 21]\n",
            "[ -9 -21]\n"
          ],
          "name": "stdout"
        }
      ]
    },
    {
      "cell_type": "markdown",
      "metadata": {
        "id": "_3u8x2OB2ux8"
      },
      "source": [
        "#vector associativity"
      ]
    },
    {
      "cell_type": "code",
      "metadata": {
        "colab": {
          "base_uri": "https://localhost:8080/"
        },
        "id": "h5icNnd6yRwL",
        "outputId": "ceb3eab3-d767-4588-a3b0-7c6eba83929f"
      },
      "source": [
        "vector_f=np.array([5,9])\n",
        "AssociativeVector1=(vector_a+vector_b)+vector_f\n",
        "AssociativeVector2=vector_a+(vector_b+vector_f)\n",
        "print(AssociativeVector1)\n",
        "print(AssociativeVector2)"
      ],
      "execution_count": 39,
      "outputs": [
        {
          "output_type": "stream",
          "text": [
            "[23 25]\n",
            "[23 25]\n"
          ],
          "name": "stdout"
        }
      ]
    },
    {
      "cell_type": "markdown",
      "metadata": {
        "id": "C-JYsVDk2566"
      },
      "source": [
        "# properties of the vector: length Or Magnitude or Norm & direction"
      ]
    },
    {
      "cell_type": "code",
      "metadata": {
        "colab": {
          "base_uri": "https://localhost:8080/"
        },
        "id": "GTQKztUJyRwM",
        "outputId": "603024d9-0d5c-482b-9b62-deeb0d99926e"
      },
      "source": [
        "longVector=np.array([1,2,3,4,5])\n",
        "print(np.linalg.norm(longVector)) # the result is the magnitude"
      ],
      "execution_count": 41,
      "outputs": [
        {
          "output_type": "stream",
          "text": [
            "7.416198487095663\n"
          ],
          "name": "stdout"
        }
      ]
    },
    {
      "cell_type": "markdown",
      "metadata": {
        "id": "LvBbI_803I5C"
      },
      "source": [
        "The magnitude of the product of a scalar, k, and a vector, v, is equal to the absolute value of the scalar and the magnitude of the original vector, |k|·||v||"
      ]
    },
    {
      "cell_type": "code",
      "metadata": {
        "colab": {
          "base_uri": "https://localhost:8080/"
        },
        "id": "rcN5YkEeyRwM",
        "outputId": "92f7a46c-ce36-4df3-f9fd-06f1b9c32fe8"
      },
      "source": [
        "scalarLongVector=3*longVector # we multiply the original vector by 3\n",
        "print(scalarLongVector)\n",
        "print(np.linalg.norm(scalarLongVector))#then we get its magnitude after multiplication\n",
        "\n",
        "longVectorMagnitude=np.linalg.norm(longVector) #this is the magnitude of the original vector before multiplying by 3\n",
        "print(3*longVectorMagnitude) # the mgnitude of the vector after multiplicating the vector by 3 equals the magnitude of the \n",
        "#scalar vector multiplied by 3"
      ],
      "execution_count": 43,
      "outputs": [
        {
          "output_type": "stream",
          "text": [
            "[ 3  6  9 12 15]\n",
            "22.24859546128699\n",
            "22.24859546128699\n"
          ],
          "name": "stdout"
        }
      ]
    },
    {
      "cell_type": "markdown",
      "metadata": {
        "id": "SuTP9rSD3o5i"
      },
      "source": [
        "The theorem involving vectors, their magnitudes, and the sum of their magnitudes is called the **triangle inequality or the Cauchy-Schwarz inequality **(named for the mathematicians responsible).\n",
        "\n",
        "For any vectors u and v, the following, which says that **the magnitude of the sum of vectors is always less than or equal to the sum of the magnitudes of the vectors**, holds: ||u+v|| =< ||u||+||v||"
      ]
    },
    {
      "cell_type": "code",
      "metadata": {
        "colab": {
          "base_uri": "https://localhost:8080/"
        },
        "id": "B9ubizqayRwN",
        "outputId": "2a071f4e-3e66-4ebe-b9a3-557888a5576d"
      },
      "source": [
        "u=np.array([1,10,79])\n",
        "v=np.array([9,19,81])\n",
        "sum_uv=u+v\n",
        "print(sum_uv)\n",
        "print(\"||u+v|| equals: \"+str(np.linalg.norm(sum_uv)))# this is the magnitude or the norm of u+v : ||u+v|| \n",
        "\n",
        "print(\"||u||+||v|| equals: \"+str(np.linalg.norm(u)+np.linalg.norm(v)))# this is the magnitude or the norm of u +the magnitude of v : ||u||+||v||\n",
        "#so, ||u+v|| =< ||u||+||v||"
      ],
      "execution_count": 45,
      "outputs": [
        {
          "output_type": "stream",
          "text": [
            "[ 10  29 160]\n",
            "||u+v|| equals: 162.91408778862558\n",
            "||u||+||v|| equals: 163.32060413031417\n"
          ],
          "name": "stdout"
        }
      ]
    },
    {
      "cell_type": "markdown",
      "metadata": {
        "id": "O7rqilTO5BdK"
      },
      "source": [
        "# The geometric mean"
      ]
    },
    {
      "cell_type": "markdown",
      "metadata": {
        "id": "ri2b2J5o4EKq"
      },
      "source": [
        "The geometric mean of 4 and 9 is 6, because the ratio 4/6 is the same as the ratio 6/9. Both ratios are equal to 2/3. To find a geometric mean of two numbers, you just determine the square root of the product of the numbers.\n",
        "\n",
        "The geometric mean is never larger than the arithmetic mean (average) — the geometric mean is always smaller than, or the same as, the arithmetic mean \n",
        "\n",
        "geometric mean =< arithmetic mean\n",
        "||u+v|| =< ||u||+||v||"
      ]
    },
    {
      "cell_type": "code",
      "metadata": {
        "colab": {
          "base_uri": "https://localhost:8080/"
        },
        "id": "mAeqPKm0yRwO",
        "outputId": "f56919eb-feee-4aee-b2d9-a1a8633f17a7"
      },
      "source": [
        "u1=np.array([25,16])\n",
        "v1=np.array([16,25])\n",
        "gMean=np.linalg.norm(v1+u1)\n",
        "print(\"geometric mean is: \" + str(gMean)) # it is clear in the resultss that the geometric mean is less than the arithmetic mean\n",
        "\n",
        "aMean=np.linalg.norm(u1)+np.linalg.norm(v1)\n",
        "print(\"arithmetic mean is: \"+str(aMean)) # it is clear in the results that the arithmetic mean is larger than the geometric mean"
      ],
      "execution_count": 47,
      "outputs": [
        {
          "output_type": "stream",
          "text": [
            "geometric mean is: 57.982756057296896\n",
            "arithmetic mean is: 59.36328831862332\n"
          ],
          "name": "stdout"
        }
      ]
    },
    {
      "cell_type": "markdown",
      "metadata": {
        "id": "TDH7vZ5M495a"
      },
      "source": [
        "# The dot product"
      ]
    },
    {
      "cell_type": "markdown",
      "metadata": {
        "id": "sPWA_O844gAy"
      },
      "source": [
        "The inner product of two vectors is also called its **dot product**. When u and v\n",
        "are both n × 1 vectors, then the notation uTv indicates the inner product of u\n",
        "and v.The superscript T in the notation uTv means to transpose the\n",
        "vector u, to change its orientation. This is merely a notation technicality and\n",
        "tries to make it clear what’s happening with the operation. "
      ]
    },
    {
      "cell_type": "code",
      "metadata": {
        "colab": {
          "base_uri": "https://localhost:8080/"
        },
        "id": "hbWu_lrIyRwP",
        "outputId": "11ff0a8d-04d7-4006-8cb9-b0cb7245b5f4"
      },
      "source": [
        "vector_a=np.array([3,7,5])\n",
        "vector_b=np.array([15,9,4])\n",
        "print(\"vector_a.dot(vector_b) equals: \"+str(vector_a.dot(vector_b)))\n",
        "print(\"vector_b.dot(vector_a) equals: \"+str(vector_b.dot(vector_a)))"
      ],
      "execution_count": 49,
      "outputs": [
        {
          "output_type": "stream",
          "text": [
            "vector_a.dot(vector_b) equals: 128\n",
            "vector_b.dot(vector_a) equals: 128\n"
          ],
          "name": "stdout"
        }
      ]
    },
    {
      "cell_type": "markdown",
      "metadata": {
        "id": "7dA1LSrY5JaT"
      },
      "source": [
        "## Orthognality between vectors"
      ]
    },
    {
      "cell_type": "markdown",
      "metadata": {
        "id": "vzbkHkFz5O56"
      },
      "source": [
        "Orthognality: Two lines, segments, or planes are said to be orthogonal if they’re perpendicular to one another. \n",
        "The slope of a line is determined by finding the difference between the y-coordinates\n",
        "of two points on the line and dividing that difference by the difference\n",
        "between the corresponding x-coordinates of the points on that line.\n",
        "And, further, **two lines are perpendicular** (form a right angle) if the product of\n",
        "their slopes is –1. (Then they’re negative reciprocals of one another.)\n",
        "\n",
        "When dealing with vectors, you determine if they’re perpendicular to one\n",
        "another by finding their **inner product**. If the inner product of vectors u and v\n",
        "is equal to 0, then the vectors are perpendicular. This means the angle between them is 90 degrees."
      ]
    },
    {
      "cell_type": "code",
      "metadata": {
        "colab": {
          "base_uri": "https://localhost:8080/"
        },
        "id": "22ux1kPjyRwP",
        "outputId": "d00dd536-386f-4d47-f80a-d55c3d71bac6"
      },
      "source": [
        "u2=np.array([6,2])\n",
        "v2=np.array([-1,3])\n",
        "\n",
        "u2.dot(v2) # the inner product/ The dot product equals 0. this means the angle between the vectors is 90 degrees"
      ],
      "execution_count": 51,
      "outputs": [
        {
          "output_type": "execute_result",
          "data": {
            "text/plain": [
              "0"
            ]
          },
          "metadata": {
            "tags": []
          },
          "execution_count": 51
        }
      ]
    },
    {
      "cell_type": "markdown",
      "metadata": {
        "id": "gtcMqLfh50wa"
      },
      "source": [
        "## measuring angles between 2 vectors"
      ]
    },
    {
      "cell_type": "markdown",
      "metadata": {
        "id": "kPp-VYoF5-j0"
      },
      "source": [
        "measuring the angle between 2 vectors u and v: \n",
        "\n",
        "u.v=||u||.||v||cosθ\n",
        "\n",
        "where u · v is the inner product of the\n",
        "two vectors, ||u|| and ||v|| are the respective magnitudes of the vectors, and\n",
        "cosθ is the measure (counterclockwise) of the angle formed between the two vectors."
      ]
    },
    {
      "cell_type": "code",
      "metadata": {
        "colab": {
          "base_uri": "https://localhost:8080/"
        },
        "id": "vwFs9HJoyRwQ",
        "outputId": "570476f8-6a8b-4aa1-8bbf-f29fcfb6bd6c"
      },
      "source": [
        "u3=np.array([6,2])\n",
        "v3=np.array([-1,3])\n",
        "innerAngleCosine=(u3.dot(v3))/(np.linalg.norm(u3)*np.linalg.norm(v3))\n",
        "print(innerAngleCosine)"
      ],
      "execution_count": 53,
      "outputs": [
        {
          "output_type": "stream",
          "text": [
            "0.0\n"
          ],
          "name": "stdout"
        }
      ]
    },
    {
      "cell_type": "markdown",
      "metadata": {
        "id": "Zr3vQI3S6chq"
      },
      "source": [
        "linking vector length Or Magnitude or Norm and dot product. Notice that the length of the vector equals the square root of the dot product."
      ]
    },
    {
      "cell_type": "code",
      "metadata": {
        "colab": {
          "base_uri": "https://localhost:8080/"
        },
        "id": "wIIrWK26yRwQ",
        "outputId": "4e90682d-a8d8-4ee2-efc1-762c562acb46"
      },
      "source": [
        "vector_a=np.array([1,2,3,4,5,6])\n",
        "print(\"the length of the vector: \"+str(np.linalg.norm(vector_a))) #get the length of vector A\n",
        "\n",
        "import math\n",
        "print(\"the square root of the dot product is: \"+str(math.sqrt(vector_a.dot(vector_a)))) # notice that the length of the vector equals the square root of the dot product"
      ],
      "execution_count": 55,
      "outputs": [
        {
          "output_type": "stream",
          "text": [
            "the length of the vector: 9.539392014169456\n",
            "the square root of the dot product is: 9.539392014169456\n"
          ],
          "name": "stdout"
        }
      ]
    }
  ]
}