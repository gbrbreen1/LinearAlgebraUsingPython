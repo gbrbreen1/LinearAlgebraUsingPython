{
  "nbformat": 4,
  "nbformat_minor": 0,
  "metadata": {
    "kernelspec": {
      "display_name": "Python 3",
      "language": "python",
      "name": "python3"
    },
    "language_info": {
      "codemirror_mode": {
        "name": "ipython",
        "version": 3
      },
      "file_extension": ".py",
      "mimetype": "text/x-python",
      "name": "python",
      "nbconvert_exporter": "python",
      "pygments_lexer": "ipython3",
      "version": "3.6.2"
    },
    "colab": {
      "name": "02Matrices.ipynb",
      "provenance": []
    }
  },
  "cells": [
    {
      "cell_type": "markdown",
      "metadata": {
        "id": "SA_9Jtm5zpxt"
      },
      "source": [
        "\n",
        "<h1 align=center> Linear Algebra: Chapter 2 (Matrices)</h1>\n",
        "\n"
      ]
    },
    {
      "cell_type": "markdown",
      "metadata": {
        "id": "VdLwKMAC0IAj"
      },
      "source": [
        "This course is developed by Dr. Mohamed Gabr (gbrbreen2@gmail.com) as an introduction to mathematics for AI. The course focuses on using Python for Linear Algebra calculations."
      ]
    },
    {
      "cell_type": "markdown",
      "metadata": {
        "id": "U0QBN4fz75Ay"
      },
      "source": [
        "# Introduction to matrices"
      ]
    },
    {
      "cell_type": "markdown",
      "metadata": {
        "id": "aGaG9yZi7PLC"
      },
      "source": [
        "Matrices are essentially rectangular arrays of numbers. The reason\n",
        "that you’d ever even consider putting numbers in rectangular arrays\n",
        "is to give some order or arrangement to them so that they can be studied or used in an application.\n",
        "\n",
        "The rectangular arrays of numbers are surrounded by a bracket to\n",
        "indicate that this is a mathematical structure called a matrix. The different\n",
        "positions or values in a matrix are called elements\n",
        "A is a 3 × 4 matrix where aij = i + j.\n",
        "\n",
        "Matrices come in all sizes or dimensions. The dimension gives the number of\n",
        "rows, followed by a multiplication sign, followed by the number of columns.\n",
        "\n",
        "Determining the dimension of a matrix is important when performing operations involving more than one matrix. When adding or \n",
        "subtracting matrices, the two matrices need to have the same dimension. When multiplying matrices, the number of columns in the \n",
        "first matrix has to match the number of columns in the second matrix."
      ]
    },
    {
      "cell_type": "markdown",
      "metadata": {
        "id": "ARDZxOex7vRN"
      },
      "source": [
        "# sales scenario\n",
        "\n",
        "Here we  build 2 matrices; one represents the sales of 3 insurance-policies sales representatives in January and the other represents the sales of the same 2 in February. The policies sold are represented by the columns; Life insurence, car insuarence, and homeowner insurance\n",
        "\n",
        "The rectangular array allows the sales manager to quickly observe any trends or patterns or problems with the production of the salespersons."
      ]
    },
    {
      "cell_type": "code",
      "metadata": {
        "colab": {
          "base_uri": "https://localhost:8080/"
        },
        "id": "gEKMwTv97B5R",
        "outputId": "f979a798-f3d6-4a26-8b75-7d8cf02f0cfc"
      },
      "source": [
        "import numpy as np\n",
        "matrixJan=np.array([[12,23,14],[20,29,38],[3,6,10]])\n",
        "matrixFeb=np.array([[13,33,22],[10,19,8],[30,0,20]])\n",
        "sumJanFeb=matrixJan+matrixFeb\n",
        "print(sumJanFeb)\n",
        "\n",
        "sumFebJan=matrixFeb+matrixJan\n",
        "print(sumFebJan)# matrix addition is cummutative"
      ],
      "execution_count": 1,
      "outputs": [
        {
          "output_type": "stream",
          "text": [
            "[[25 56 36]\n",
            " [30 48 46]\n",
            " [33  6 30]]\n",
            "[[25 56 36]\n",
            " [30 48 46]\n",
            " [33  6 30]]\n"
          ],
          "name": "stdout"
        }
      ]
    },
    {
      "cell_type": "markdown",
      "metadata": {
        "id": "j2AjKVCr8GQo"
      },
      "source": [
        "## matrix scalar multiplication"
      ]
    },
    {
      "cell_type": "code",
      "metadata": {
        "colab": {
          "base_uri": "https://localhost:8080/"
        },
        "id": "O6Wmxs8Q7B5T",
        "outputId": "24fb9d7c-97e2-46fd-cf3b-28f3035d28e1"
      },
      "source": [
        "print(-4*sumJanFeb)"
      ],
      "execution_count": 3,
      "outputs": [
        {
          "output_type": "stream",
          "text": [
            "[[-100 -224 -144]\n",
            " [-120 -192 -184]\n",
            " [-132  -24 -120]]\n"
          ],
          "name": "stdout"
        }
      ]
    },
    {
      "cell_type": "markdown",
      "metadata": {
        "id": "p9bAl_9r8Zla"
      },
      "source": [
        "## matrix multiplication"
      ]
    },
    {
      "cell_type": "code",
      "metadata": {
        "colab": {
          "base_uri": "https://localhost:8080/"
        },
        "id": "Gh-piWPZ7B5U",
        "outputId": "d42532e1-b596-4a7c-bb68-66e0b419ab75"
      },
      "source": [
        "# to multiply matrices, columns of the first should equal rows of the second\n",
        "matrixA=np.array([[1,1],[2,2],[3,3],[4,4]]) # a matrix of 4*2\n",
        "matrixB=np.array([[1,1,1,1],[2,2,2,2,],[3,3,3,3],[4,4,4,4],[5,5,5,5]]) # a matrix of 5*4\n",
        "print(np.matmul(matrixB,matrixA))"
      ],
      "execution_count": 16,
      "outputs": [
        {
          "output_type": "stream",
          "text": [
            "[[10 10]\n",
            " [20 20]\n",
            " [30 30]\n",
            " [40 40]\n",
            " [50 50]]\n"
          ],
          "name": "stdout"
        }
      ]
    },
    {
      "cell_type": "markdown",
      "metadata": {
        "id": "qz3I_7la9SIj"
      },
      "source": [
        "## the identity matrix"
      ]
    },
    {
      "cell_type": "markdown",
      "metadata": {
        "id": "FcHBhJLa9YKR"
      },
      "source": [
        "identity matrix (the matrix that makes no change for the vector or the matrix) transformation - no change in the vector or the matrix. \n",
        "There are 2 identity matrices; the additive identity and the multiplicative identity.\n",
        "\n",
        "The additive identity for matrices is the zero matrix. A zero matrix has elements that are all zero.\n",
        "\n",
        "The multiplicative identity comes in only one shape: a square. A square matrix is n × n; the number of rows and number of columns is the same.\n",
        "The multiplicative identity is a square matrix, and the elements on the maindiagonal running from the top left to the bottom \n",
        "right are 1s. All the rest of the elements in the matrix are 0s."
      ]
    },
    {
      "cell_type": "code",
      "metadata": {
        "colab": {
          "base_uri": "https://localhost:8080/"
        },
        "id": "hKRhyujk7B5X",
        "outputId": "56bafe23-f3d4-4110-ffcd-63274a95fb6d"
      },
      "source": [
        "identityAdd=np.array([[0,0],[0,0],[0,0],[0,0]])\n",
        "print(matrixA)\n",
        "print('#########')\n",
        "print(matrixA+identityAdd)"
      ],
      "execution_count": 7,
      "outputs": [
        {
          "output_type": "stream",
          "text": [
            "[[1 1]\n",
            " [2 2]\n",
            " [3 3]\n",
            " [4 4]]\n",
            "#########\n",
            "[[1 1]\n",
            " [2 2]\n",
            " [3 3]\n",
            " [4 4]]\n"
          ],
          "name": "stdout"
        }
      ]
    },
    {
      "cell_type": "code",
      "metadata": {
        "colab": {
          "base_uri": "https://localhost:8080/"
        },
        "id": "5pZdM0LB7B5Y",
        "outputId": "d47a1f3f-03b3-4f7a-819d-102bd14d139d"
      },
      "source": [
        "identityMul=np.array([[1,0],[0,1]])\n",
        "print(matrixA)\n",
        "print('#########')\n",
        "print(np.matmul(matrixA,identityMul))"
      ],
      "execution_count": 8,
      "outputs": [
        {
          "output_type": "stream",
          "text": [
            "[[1 1]\n",
            " [2 2]\n",
            " [3 3]\n",
            " [4 4]]\n",
            "#########\n",
            "[[1 1]\n",
            " [2 2]\n",
            " [3 3]\n",
            " [4 4]]\n"
          ],
          "name": "stdout"
        }
      ]
    },
    {
      "cell_type": "markdown",
      "metadata": {
        "id": "7tJc3aaE90Lz"
      },
      "source": [
        "**matrix multiplication, in general, is not commutative**. The **exception** to that rule is when a square matrix is multiplied by its identity matrix. Whether the identity matrix comes first or second in the multiplication, the original matrix keeps its identity"
      ]
    },
    {
      "cell_type": "code",
      "metadata": {
        "colab": {
          "base_uri": "https://localhost:8080/"
        },
        "id": "_J_0XtOu7B5Z",
        "outputId": "d1355def-6471-47e9-e81e-7ae92fd13b4b"
      },
      "source": [
        "squarematrixA=np.array([[4,-1],[2,3]])\n",
        "identityMul=np.array([[1,0],[0,1]])\n",
        "print(np.matmul(squarematrixA,identityMul))#multiplication is only commutative in this case\n",
        "print('#########')\n",
        "print(np.matmul(identityMul,squarematrixA))#multiplication is only commutative in this case"
      ],
      "execution_count": 10,
      "outputs": [
        {
          "output_type": "stream",
          "text": [
            "[[ 4 -1]\n",
            " [ 2  3]]\n",
            "#########\n",
            "[[ 4 -1]\n",
            " [ 2  3]]\n"
          ],
          "name": "stdout"
        }
      ]
    },
    {
      "cell_type": "markdown",
      "metadata": {
        "id": "IrDsBQmk9-Ha"
      },
      "source": [
        "<h3>NOTE:</h3>\n",
        "\n",
        "**Matrices labeled as being triangular or diagonal** have the common characteristic that they’re square matrices. A triangular  matrix is either upper triangular or lower triangular.An upper triangular matrix; all the elements below the main diagonal (the diagonal running from upper left to lower right) are 0s.A lower triangular matrix; all the elements above the main diagonal are 0s."
      ]
    },
    {
      "cell_type": "markdown",
      "metadata": {
        "id": "Ub8uuFSs-50i"
      },
      "source": [
        "# singular and non-singular matrices"
      ]
    },
    {
      "cell_type": "code",
      "metadata": {
        "collapsed": true,
        "id": "1KHMG4K47B5a"
      },
      "source": [
        ""
      ],
      "execution_count": 12,
      "outputs": []
    },
    {
      "cell_type": "markdown",
      "metadata": {
        "id": "382vr_pU_G3M"
      },
      "source": [
        "The classification as singular or non-singular matrices applies to just square matrices. A square matrix is singular if it has a multiplicative inverse; a matrix is non-singular if it does not have a multiplicative inverse.\n",
        "\n",
        "singular=لها معكوس ضربي\n",
        "non-singular= ليس لها معكوس ضربي\n",
        "\n",
        "\n",
        "When a matrix has a multiplicative inverse, the product of the matrix and its inverse is equal to an identity matrix (multiplicative identity). And, furthermore, you can multiply the two matrices involved in either order (commutativity) and still get the identity.\n",
        "\n",
        "An invertible matrix is a matrix that has an inverse. An invertible matrix is a square matrix. If matrix A is invertible, then there’s also a matrix A–1 where, when you multiply the two matrices, A * A–1, you get an identity matrix of the same dimension as A and A–1. When you multiply a matrix and its inverse together, the order doesn’t matter. Either order of multiplication produces the identity matrix.\n",
        "\n",
        "Not all matrices are invertible. For example, a matrix with a row of 0s or a column of 0s isn’t invertible — it has no inverse.\n",
        "\n",
        "Matrix inverses are used to solve problems involving systems of equations and to perform matrix division."
      ]
    },
    {
      "cell_type": "code",
      "metadata": {
        "colab": {
          "base_uri": "https://localhost:8080/"
        },
        "id": "I3zfU1F87B5a",
        "outputId": "b22c8673-e438-4abc-afd6-afd0f2ff79e2"
      },
      "source": [
        "orginalMatrix=np.array([[4,-7],[2,-3]])\n",
        "inverseMatrix=np.linalg.inv(orginalMatrix)\n",
        "print('the inverse of the original matrix is: '+str(inverseMatrix))\n",
        "\n",
        "print('################')\n",
        "print('the product of the matrix and its inverse in this order (matrix*inverse) is: '+str(np.matmul(orginalMatrix,inverseMatrix)))\n",
        "print('################')\n",
        "print('the product of the matrix and its inverse in this order (inverse*matrix) is: '+str(np.matmul(inverseMatrix,orginalMatrix)))\n",
        "#notice that whatever the order, the result is the identity matrix\n"
      ],
      "execution_count": 13,
      "outputs": [
        {
          "output_type": "stream",
          "text": [
            "the inverse of the original matrix is: [[-1.5  3.5]\n",
            " [-1.   2. ]]\n",
            "################\n",
            "the product of the matrix and its inverse in this order (matrix*inverse) is: [[1. 0.]\n",
            " [0. 1.]]\n",
            "################\n",
            "the product of the matrix and its inverse in this order (inverse*matrix) is: [[1. 0.]\n",
            " [0. 1.]]\n"
          ],
          "name": "stdout"
        }
      ]
    },
    {
      "cell_type": "code",
      "metadata": {
        "collapsed": true,
        "id": "z0BC0t6E7B5b"
      },
      "source": [
        "# there are matrices without inverse"
      ],
      "execution_count": 14,
      "outputs": []
    },
    {
      "cell_type": "code",
      "metadata": {
        "colab": {
          "base_uri": "https://localhost:8080/",
          "height": 354
        },
        "id": "xcsLECM77B5b",
        "outputId": "9771b38b-c457-4a4d-8fe8-0e7432334b08"
      },
      "source": [
        "matrixWithNoInverse=np.array([[8,2],[12,3]])\n",
        "print(np.linalg.inv(matrixWithNoInverse)) # the result shows that it is a singular matrix"
      ],
      "execution_count": 17,
      "outputs": [
        {
          "output_type": "error",
          "ename": "LinAlgError",
          "evalue": "ignored",
          "traceback": [
            "\u001b[0;31m---------------------------------------------------------------------------\u001b[0m",
            "\u001b[0;31mLinAlgError\u001b[0m                               Traceback (most recent call last)",
            "\u001b[0;32m<ipython-input-17-c19203f77f63>\u001b[0m in \u001b[0;36m<module>\u001b[0;34m()\u001b[0m\n\u001b[1;32m      1\u001b[0m \u001b[0mmatrixWithNoInverse\u001b[0m\u001b[0;34m=\u001b[0m\u001b[0mnp\u001b[0m\u001b[0;34m.\u001b[0m\u001b[0marray\u001b[0m\u001b[0;34m(\u001b[0m\u001b[0;34m[\u001b[0m\u001b[0;34m[\u001b[0m\u001b[0;36m8\u001b[0m\u001b[0;34m,\u001b[0m\u001b[0;36m2\u001b[0m\u001b[0;34m]\u001b[0m\u001b[0;34m,\u001b[0m\u001b[0;34m[\u001b[0m\u001b[0;36m12\u001b[0m\u001b[0;34m,\u001b[0m\u001b[0;36m3\u001b[0m\u001b[0;34m]\u001b[0m\u001b[0;34m]\u001b[0m\u001b[0;34m)\u001b[0m\u001b[0;34m\u001b[0m\u001b[0;34m\u001b[0m\u001b[0m\n\u001b[0;32m----> 2\u001b[0;31m \u001b[0mprint\u001b[0m\u001b[0;34m(\u001b[0m\u001b[0mstr\u001b[0m\u001b[0;34m(\u001b[0m\u001b[0mnp\u001b[0m\u001b[0;34m.\u001b[0m\u001b[0mlinalg\u001b[0m\u001b[0;34m.\u001b[0m\u001b[0minv\u001b[0m\u001b[0;34m(\u001b[0m\u001b[0mmatrixWithNoInverse\u001b[0m\u001b[0;34m)\u001b[0m\u001b[0;34m)\u001b[0m\u001b[0;34m)\u001b[0m \u001b[0;31m# the result shows that it is a singular matrix\u001b[0m\u001b[0;34m\u001b[0m\u001b[0;34m\u001b[0m\u001b[0m\n\u001b[0m",
            "\u001b[0;32m<__array_function__ internals>\u001b[0m in \u001b[0;36minv\u001b[0;34m(*args, **kwargs)\u001b[0m\n",
            "\u001b[0;32m/usr/local/lib/python3.7/dist-packages/numpy/linalg/linalg.py\u001b[0m in \u001b[0;36minv\u001b[0;34m(a)\u001b[0m\n\u001b[1;32m    544\u001b[0m     \u001b[0msignature\u001b[0m \u001b[0;34m=\u001b[0m \u001b[0;34m'D->D'\u001b[0m \u001b[0;32mif\u001b[0m \u001b[0misComplexType\u001b[0m\u001b[0;34m(\u001b[0m\u001b[0mt\u001b[0m\u001b[0;34m)\u001b[0m \u001b[0;32melse\u001b[0m \u001b[0;34m'd->d'\u001b[0m\u001b[0;34m\u001b[0m\u001b[0;34m\u001b[0m\u001b[0m\n\u001b[1;32m    545\u001b[0m     \u001b[0mextobj\u001b[0m \u001b[0;34m=\u001b[0m \u001b[0mget_linalg_error_extobj\u001b[0m\u001b[0;34m(\u001b[0m\u001b[0m_raise_linalgerror_singular\u001b[0m\u001b[0;34m)\u001b[0m\u001b[0;34m\u001b[0m\u001b[0;34m\u001b[0m\u001b[0m\n\u001b[0;32m--> 546\u001b[0;31m     \u001b[0mainv\u001b[0m \u001b[0;34m=\u001b[0m \u001b[0m_umath_linalg\u001b[0m\u001b[0;34m.\u001b[0m\u001b[0minv\u001b[0m\u001b[0;34m(\u001b[0m\u001b[0ma\u001b[0m\u001b[0;34m,\u001b[0m \u001b[0msignature\u001b[0m\u001b[0;34m=\u001b[0m\u001b[0msignature\u001b[0m\u001b[0;34m,\u001b[0m \u001b[0mextobj\u001b[0m\u001b[0;34m=\u001b[0m\u001b[0mextobj\u001b[0m\u001b[0;34m)\u001b[0m\u001b[0;34m\u001b[0m\u001b[0;34m\u001b[0m\u001b[0m\n\u001b[0m\u001b[1;32m    547\u001b[0m     \u001b[0;32mreturn\u001b[0m \u001b[0mwrap\u001b[0m\u001b[0;34m(\u001b[0m\u001b[0mainv\u001b[0m\u001b[0;34m.\u001b[0m\u001b[0mastype\u001b[0m\u001b[0;34m(\u001b[0m\u001b[0mresult_t\u001b[0m\u001b[0;34m,\u001b[0m \u001b[0mcopy\u001b[0m\u001b[0;34m=\u001b[0m\u001b[0;32mFalse\u001b[0m\u001b[0;34m)\u001b[0m\u001b[0;34m)\u001b[0m\u001b[0;34m\u001b[0m\u001b[0;34m\u001b[0m\u001b[0m\n\u001b[1;32m    548\u001b[0m \u001b[0;34m\u001b[0m\u001b[0m\n",
            "\u001b[0;32m/usr/local/lib/python3.7/dist-packages/numpy/linalg/linalg.py\u001b[0m in \u001b[0;36m_raise_linalgerror_singular\u001b[0;34m(err, flag)\u001b[0m\n\u001b[1;32m     86\u001b[0m \u001b[0;34m\u001b[0m\u001b[0m\n\u001b[1;32m     87\u001b[0m \u001b[0;32mdef\u001b[0m \u001b[0m_raise_linalgerror_singular\u001b[0m\u001b[0;34m(\u001b[0m\u001b[0merr\u001b[0m\u001b[0;34m,\u001b[0m \u001b[0mflag\u001b[0m\u001b[0;34m)\u001b[0m\u001b[0;34m:\u001b[0m\u001b[0;34m\u001b[0m\u001b[0;34m\u001b[0m\u001b[0m\n\u001b[0;32m---> 88\u001b[0;31m     \u001b[0;32mraise\u001b[0m \u001b[0mLinAlgError\u001b[0m\u001b[0;34m(\u001b[0m\u001b[0;34m\"Singular matrix\"\u001b[0m\u001b[0;34m)\u001b[0m\u001b[0;34m\u001b[0m\u001b[0;34m\u001b[0m\u001b[0m\n\u001b[0m\u001b[1;32m     89\u001b[0m \u001b[0;34m\u001b[0m\u001b[0m\n\u001b[1;32m     90\u001b[0m \u001b[0;32mdef\u001b[0m \u001b[0m_raise_linalgerror_nonposdef\u001b[0m\u001b[0;34m(\u001b[0m\u001b[0merr\u001b[0m\u001b[0;34m,\u001b[0m \u001b[0mflag\u001b[0m\u001b[0;34m)\u001b[0m\u001b[0;34m:\u001b[0m\u001b[0;34m\u001b[0m\u001b[0;34m\u001b[0m\u001b[0m\n",
            "\u001b[0;31mLinAlgError\u001b[0m: Singular matrix"
          ]
        }
      ]
    },
    {
      "cell_type": "code",
      "metadata": {
        "collapsed": true,
        "id": "3_BOoRvy7B5c"
      },
      "source": [
        ""
      ],
      "execution_count": 18,
      "outputs": []
    },
    {
      "cell_type": "markdown",
      "metadata": {
        "id": "D1qQtYky_1KC"
      },
      "source": [
        "#Matrix transpose\n",
        "\n",
        "Performing a matrix transpose on matrix A, the notation is AT. When A is changed to AT, each aij in A becomes aij in AT:"
      ]
    },
    {
      "cell_type": "code",
      "metadata": {
        "colab": {
          "base_uri": "https://localhost:8080/"
        },
        "id": "yRe0H5_h7B5c",
        "outputId": "f28f43e1-e23f-4e47-8da7-201ea4cf2577"
      },
      "source": [
        "originalMatrix=np.array([[6,7,8],[-1,3,5]])\n",
        "print(originalMatrix)\n",
        "print('###################')\n",
        "transposedMatrix=originalMatrix.transpose()\n",
        "print(transposedMatrix)"
      ],
      "execution_count": 19,
      "outputs": [
        {
          "output_type": "stream",
          "text": [
            "[[ 6  7  8]\n",
            " [-1  3  5]]\n",
            "###################\n",
            "[[ 6 -1]\n",
            " [ 7  3]\n",
            " [ 8  5]]\n"
          ],
          "name": "stdout"
        }
      ]
    },
    {
      "cell_type": "markdown",
      "metadata": {
        "id": "ZdZ3VHleAC5q"
      },
      "source": [
        "The transpose of the sum of two matrices is equal to the sum of the two transposes:"
      ]
    },
    {
      "cell_type": "code",
      "metadata": {
        "colab": {
          "base_uri": "https://localhost:8080/"
        },
        "id": "GFz7dEIP7B5c",
        "outputId": "ccb2478d-a9c2-4a82-dad7-de0112e3ea26"
      },
      "source": [
        "print(originalMatrix)\n",
        "print('###################')\n",
        "print(originalMatrix.transpose())\n",
        "print('###################')\n",
        "\n",
        "anotherMatrix=np.array([[5,9,14],[5,4,7]])\n",
        "print(anotherMatrix.transpose())\n",
        "print('###################')\n",
        "sumOfTransposes=anotherMatrix.transpose()+originalMatrix.transpose()\n",
        "print('Sum of transposes is:'+str(sumOfTransposes))\n",
        "print('###################')\n",
        "\n",
        "sumOriginalAdded=originalMatrix+anotherMatrix\n",
        "print(sumOriginalAdded)\n",
        "print('###################')\n",
        "transposeOfSum=sumOriginalAdded.transpose()\n",
        "print('Transpose of sums is: '+str(transposeOfSum))\n"
      ],
      "execution_count": 20,
      "outputs": [
        {
          "output_type": "stream",
          "text": [
            "[[ 6  7  8]\n",
            " [-1  3  5]]\n",
            "###################\n",
            "[[ 6 -1]\n",
            " [ 7  3]\n",
            " [ 8  5]]\n",
            "###################\n",
            "[[ 5  5]\n",
            " [ 9  4]\n",
            " [14  7]]\n",
            "###################\n",
            "Sum of transposes is:[[11  4]\n",
            " [16  7]\n",
            " [22 12]]\n",
            "###################\n",
            "[[11 16 22]\n",
            " [ 4  7 12]]\n",
            "###################\n",
            "Transpose of sums is: [[11  4]\n",
            " [16  7]\n",
            " [22 12]]\n"
          ],
          "name": "stdout"
        }
      ]
    },
    {
      "cell_type": "markdown",
      "metadata": {
        "id": "JvI7yqpIAJgi"
      },
      "source": [
        "The transpose of the product of two matrices is equal to the product of the two transposes in the opposite order:"
      ]
    },
    {
      "cell_type": "code",
      "metadata": {
        "colab": {
          "base_uri": "https://localhost:8080/"
        },
        "id": "Bmc1GFXs7B5d",
        "outputId": "6616457f-68a1-4d47-c34d-0c47eba8a257"
      },
      "source": [
        "matrixA=np.array([[1,1],[2,2],[3,3],[4,4]])\n",
        "matrixB=np.array([[1,1,1,1],[2,2,2,2,],[3,3,3,3],[4,4,4,4],[5,5,5,5]])\n",
        "productOfMatrices=np.matmul(matrixB,matrixA)\n",
        "print('Product of the matrices: '+str(productOfMatrices))\n",
        "print('###################')\n",
        "print('transpose of the product of the 2 matrices is: '+str(productOfMatrices.transpose()))\n",
        "print('###################')\n",
        "productOfTransposes=np.matmul(matrixA.transpose(),matrixB.transpose())#this is the product of transposes but in the opposite order\n",
        "print('product of transposes is: '+str(productOfTransposes))"
      ],
      "execution_count": 21,
      "outputs": [
        {
          "output_type": "stream",
          "text": [
            "Product of the matrices: [[10 10]\n",
            " [20 20]\n",
            " [30 30]\n",
            " [40 40]\n",
            " [50 50]]\n",
            "###################\n",
            "transpose of the product of the 2 matrices is: [[10 20 30 40 50]\n",
            " [10 20 30 40 50]]\n",
            "###################\n",
            "product of transposes is: [[10 20 30 40 50]\n",
            " [10 20 30 40 50]]\n"
          ],
          "name": "stdout"
        }
      ]
    }
  ]
}