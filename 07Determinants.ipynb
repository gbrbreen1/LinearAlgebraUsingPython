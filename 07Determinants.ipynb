{
  "nbformat": 4,
  "nbformat_minor": 0,
  "metadata": {
    "kernelspec": {
      "display_name": "Python 3",
      "language": "python",
      "name": "python3"
    },
    "language_info": {
      "codemirror_mode": {
        "name": "ipython",
        "version": 3
      },
      "file_extension": ".py",
      "mimetype": "text/x-python",
      "name": "python",
      "nbconvert_exporter": "python",
      "pygments_lexer": "ipython3",
      "version": "3.6.2"
    },
    "colab": {
      "name": "07Determinants.ipynb",
      "provenance": []
    }
  },
  "cells": [
    {
      "cell_type": "markdown",
      "metadata": {
        "id": "SA_9Jtm5zpxt"
      },
      "source": [
        "\n",
        "<h1 align=center> Linear Algebra: Chapter 7 (Determinants)</h1>\n",
        "\n"
      ]
    },
    {
      "cell_type": "markdown",
      "metadata": {
        "id": "VdLwKMAC0IAj"
      },
      "source": [
        "This course is developed by Dr. Mohamed Gabr (gbrbreen2@gmail.com) as an introduction to mathematics for AI. The course focuses on using Python for Linear Algebra calculations."
      ]
    },
    {
      "cell_type": "markdown",
      "metadata": {
        "id": "ZRg8DNwIY2Ul"
      },
      "source": [
        "# introduction to determinants"
      ]
    },
    {
      "cell_type": "markdown",
      "metadata": {
        "id": "j_ZlyhK3X5k2"
      },
      "source": [
        "Determinants are linked with square matrices. You compute determinants of matrices using the elements in the matrices. Determinants are linked with square matrices. You compute determinants of matrices using the elements in the matrices. Determinants are used in many applications that you find in this part.\n",
        "\n",
        "A determinant is a number associated with a square matrix; the determinant is a single number of worth. The number you get for a determinant is created using products of elements in the matrix along with sums and differences of those products.\n",
        "\n",
        "The detrminant is a property of the square matrix. It calculates the area of the matrix (in case of 2D and the size in case of 3D). It is also the amount that the matrix stretches the space by. When we divide by the determinant , after transformation, we reach/ normalize the space back to its original size."
      ]
    },
    {
      "cell_type": "code",
      "metadata": {
        "colab": {
          "base_uri": "https://localhost:8080/"
        },
        "id": "UJZMQAJTNoDn",
        "outputId": "4440f77c-1279-4b41-cbae-1a1413273ee5"
      },
      "source": [
        "#calculating the determinant for a 2x2 matrix\n",
        "import numpy as np\n",
        "my2Matrix=np.array([[3,4],[1,2]])\n",
        "np.linalg.det(my2Matrix)"
      ],
      "execution_count": 1,
      "outputs": [
        {
          "output_type": "execute_result",
          "data": {
            "text/plain": [
              "2.0000000000000004"
            ]
          },
          "metadata": {
            "tags": []
          },
          "execution_count": 1
        }
      ]
    },
    {
      "cell_type": "code",
      "metadata": {
        "colab": {
          "base_uri": "https://localhost:8080/"
        },
        "id": "1gdjSiIKNoDp",
        "outputId": "af211781-d208-4cfc-8ef3-b04af72f1b86"
      },
      "source": [
        "#calculating the determinant for a 3x3 matrix with a non-zero determinant (we can solve the equation system/ the matrix & it has an inverse)\n",
        "my3Matrix=np.array([[3,0,-1],[2,4,1],[7,2,3]])\n",
        "np.linalg.det(my3Matrix)"
      ],
      "execution_count": 2,
      "outputs": [
        {
          "output_type": "execute_result",
          "data": {
            "text/plain": [
              "53.999999999999986"
            ]
          },
          "metadata": {
            "tags": []
          },
          "execution_count": 2
        }
      ]
    },
    {
      "cell_type": "markdown",
      "metadata": {
        "id": "Ct6nFFBoZUZ_"
      },
      "source": [
        "**Note about linearly independent vectors** ==> A set of vectors are linearly dependent, that is if one of the vectors is some combination of the others.Vectors of a matrix are linearly independent since the matrix has a non-zero determinant. Vectors of a matrix are linearly dependent since the matrix has a zero determinant. This means we cannot solve the matrix (the equation system) and it has no inverse."
      ]
    },
    {
      "cell_type": "code",
      "metadata": {
        "colab": {
          "base_uri": "https://localhost:8080/"
        },
        "id": "4Q2ldVFuNoDq",
        "outputId": "2be4f72e-e2b4-4246-9127-fc4f75a429e5"
      },
      "source": [
        "#calculating the determinant for a 3x3 matrix with a zero determinant (we can't solve the equation system/ the matrix & it has no inverse)\n",
        "my3Matrix=np.array([[3,4,5],[1,2,3],[5,6,7]])\n",
        "np.linalg.det(my3Matrix)"
      ],
      "execution_count": 5,
      "outputs": [
        {
          "output_type": "execute_result",
          "data": {
            "text/plain": [
              "0.0"
            ]
          },
          "metadata": {
            "tags": []
          },
          "execution_count": 5
        }
      ]
    },
    {
      "cell_type": "markdown",
      "metadata": {
        "id": "WOZQQ0F1Zk3-"
      },
      "source": [
        "Two very nice applications of the value of a determinant are associated with area and volume. By evaluating a determinant, you can find the area of a triangle, the vertices of which are described in the coordinate plane. And, even better, the value of a determinant is linked to the volume of a parallelepiped.\n",
        "\n",
        "The area of a triangle is found by taking one half the absolute value of the determinant of the matrix formed using the coordinates of the triangle and a column of 1s."
      ]
    },
    {
      "cell_type": "code",
      "metadata": {
        "colab": {
          "base_uri": "https://localhost:8080/"
        },
        "id": "8cCfcAIRNoDs",
        "outputId": "bc2ff329-e2d5-418a-ea8d-d6dc42460cc8"
      },
      "source": [
        "# here we have atriangle with coordinates/ vertices (2,4) & (9,6) & (7,-3)\n",
        "coordinatesMatrix=np.array([[2,4,1],[9,6,1],[7,-3,1]])\n",
        "triangleArea=abs(1/2* np.linalg.det(coordinatesMatrix))\n",
        "print(triangleArea)"
      ],
      "execution_count": 6,
      "outputs": [
        {
          "output_type": "stream",
          "text": [
            "29.500000000000007\n"
          ],
          "name": "stdout"
        }
      ]
    },
    {
      "cell_type": "markdown",
      "metadata": {
        "id": "LCFlfzC9bgnd"
      },
      "source": [
        "calculating parallelogram area ==> One of two different situations may occur with the parallelograms graphed in two-space: \n",
        "\n",
        "(1) One of the vertices of the parallelogram is at the origin, or \n",
        "\n",
        "(2) none of the vertices is at the origin. Having a vertex at the origin makes the work easier, but it’s not really all that hard to deal with a parallelogram that’s out there.\n",
        "\n",
        "To find the area of a parallelogram that has one of its vertices at the origin (0,0), you just need the coordinates of the vertices that are directly connected with the origin by one of the sides of the parallelogram. The area of a parallelogram with one vertex at the origin and with coordinates of points (x1,y1) and (x2,y2) connecting a side of the parallelogram with the origin has an area equal to the absolute value of the determinant.\n",
        "\n",
        "When a parallelogram doesn’t have a vertex at the origin, you adjust or slide the parallelogram — maintaining its size and shape — until one of the verti ces ends up at the origin."
      ]
    },
    {
      "cell_type": "code",
      "metadata": {
        "colab": {
          "base_uri": "https://localhost:8080/"
        },
        "id": "4autjwDQNoDu",
        "outputId": "6e0571d8-e13e-4215-f85d-b7993a211ebc"
      },
      "source": [
        "# finding a parallelogram area that has one of its vertices at the origin and the coordinates of the vertices \n",
        "# that are directly connected with the origin by one of the sides of the parallelogram are (1,2) & (6,5)\n",
        "coordinatesAsIs=np.array([[1,2],[6,5]])\n",
        "coordinatesTransposed=coordinatesAsIs.transpose()\n",
        "print(coordinatesTransposed)\n",
        "print('###################')\n",
        "areaOfParallelogram=abs(np.linalg.det(coordinatesTransposed))\n",
        "print(areaOfParallelogram)"
      ],
      "execution_count": 7,
      "outputs": [
        {
          "output_type": "stream",
          "text": [
            "[[1 6]\n",
            " [2 5]]\n",
            "###################\n",
            "7.000000000000001\n"
          ],
          "name": "stdout"
        }
      ]
    },
    {
      "cell_type": "code",
      "metadata": {
        "colab": {
          "base_uri": "https://localhost:8080/"
        },
        "id": "aiGqb6PPNoDv",
        "outputId": "8c684e42-bace-46a4-da9f-58e1e19cae4e"
      },
      "source": [
        "# finding a parallelogram area that doesn’t have a vertex at the origin and the coordinates are (3,1)& (7,3) & (9,11) & (5,9).\n",
        "# we use the equation here: https://www.youtube.com/watch?v=o83H3mG7LRA\n",
        "# remember that you must list the coordinates anti clockwise عكس عقارب الساعة\n",
        "\n",
        "coordinatesAsIs=np.array([[3,1],[7,3],[9,11],[5,9]])\n",
        "coordinatesAsList=coordinatesAsIs.tolist()\n",
        "print(coordinatesAsList)\n",
        "sumOfDeterminants=0\n",
        "smallArrayOfCalculation=0\n",
        "for i in range(len(coordinatesAsList)):\n",
        "    print(i)\n",
        "    print(coordinatesAsList[i])\n",
        "    \n",
        "    if i< len(coordinatesAsList)-1:\n",
        "        print(np.array([coordinatesAsList[i],coordinatesAsList[i+1]]))        \n",
        "        smallArrayDeterminant=np.linalg.det(np.array([coordinatesAsList[i],coordinatesAsList[i+1]]))        \n",
        "    \n",
        "    else:\n",
        "        print(np.array([coordinatesAsList[i],coordinatesAsList[0]]))\n",
        "        smallArrayDeterminant=np.linalg.det(np.array([coordinatesAsList[i],coordinatesAsList[0]]))\n",
        "        \n",
        "    sumOfDeterminants=sumOfDeterminants+smallArrayDeterminant\n",
        "print(sumOfDeterminants)\n",
        "print('###################')\n",
        "areaOfShape=1/2*sumOfDeterminants\n",
        "print(areaOfShape)"
      ],
      "execution_count": 8,
      "outputs": [
        {
          "output_type": "stream",
          "text": [
            "[[3, 1], [7, 3], [9, 11], [5, 9]]\n",
            "0\n",
            "[3, 1]\n",
            "[[3 1]\n",
            " [7 3]]\n",
            "1\n",
            "[7, 3]\n",
            "[[ 7  3]\n",
            " [ 9 11]]\n",
            "2\n",
            "[9, 11]\n",
            "[[ 9 11]\n",
            " [ 5  9]]\n",
            "3\n",
            "[5, 9]\n",
            "[[5 9]\n",
            " [3 1]]\n",
            "56.0\n",
            "###################\n",
            "28.0\n"
          ],
          "name": "stdout"
        }
      ]
    },
    {
      "cell_type": "markdown",
      "metadata": {
        "id": "06doX-blcLIO"
      },
      "source": [
        "Parallelpiped volume can be calculated When a parallelepiped has one of its vertices at the origin, then the volume of that parallelepiped is found with the determinant of a 3x3 matrix using the coordinates of the vertices at the other end of the sides of the parallelepiped that all meet at the origin."
      ]
    },
    {
      "cell_type": "code",
      "metadata": {
        "colab": {
          "base_uri": "https://localhost:8080/"
        },
        "id": "utIe0zhYNoDw",
        "outputId": "b98fb19c-913e-4583-9c81-e546ec90d1d6"
      },
      "source": [
        "# finding a parallelpiped volume that has one of its vertices at the origin and the coordinates of the vertices \n",
        "# that are directly connected with the origin  of the parallelpiped are (2,2,5) & (-1,2,1)& (1,6,2)\n",
        "\n",
        "coordinatesAsIs=np.array([[2,2,5],[-1,2,1],[1,6,2]])\n",
        "coordinatesTransposed=coordinatesAsIs.transpose()\n",
        "print(coordinatesTransposed)\n",
        "print('###################')\n",
        "areaOfParallelogram=abs(np.linalg.det(coordinatesTransposed))\n",
        "print(areaOfParallelogram)"
      ],
      "execution_count": 9,
      "outputs": [
        {
          "output_type": "stream",
          "text": [
            "[[ 2 -1  1]\n",
            " [ 2  2  6]\n",
            " [ 5  1  2]]\n",
            "###################\n",
            "37.99999999999999\n"
          ],
          "name": "stdout"
        }
      ]
    }
  ]
}