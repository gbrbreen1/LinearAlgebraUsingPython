{
  "nbformat": 4,
  "nbformat_minor": 0,
  "metadata": {
    "kernelspec": {
      "display_name": "Python 3",
      "language": "python",
      "name": "python3"
    },
    "language_info": {
      "codemirror_mode": {
        "name": "ipython",
        "version": 3
      },
      "file_extension": ".py",
      "mimetype": "text/x-python",
      "name": "python",
      "nbconvert_exporter": "python",
      "pygments_lexer": "ipython3",
      "version": "3.6.2"
    },
    "colab": {
      "name": "09subspacesOfVectorSpace.ipynb",
      "provenance": []
    }
  },
  "cells": [
    {
      "cell_type": "markdown",
      "metadata": {
        "id": "SA_9Jtm5zpxt"
      },
      "source": [
        "\n",
        "<h1 align=center> Linear Algebra: Chapter 9 (subspaces Of a Vector Space)</h1>\n",
        "\n"
      ]
    },
    {
      "cell_type": "markdown",
      "metadata": {
        "id": "VdLwKMAC0IAj"
      },
      "source": [
        "This course is developed by Dr. Mohamed Gabr (gbrbreen2@gmail.com) as an introduction to mathematics for AI. The course focuses on using Python for Linear Algebra calculations."
      ]
    },
    {
      "cell_type": "code",
      "metadata": {
        "colab": {
          "base_uri": "https://localhost:8080/"
        },
        "id": "WKIoPmaKgrfn",
        "outputId": "e3a76f64-26d1-46af-c985-652438c37627"
      },
      "source": [
        "#null space using sympy\n",
        "from sympy import Matrix\n",
        "A = Matrix([[1, 2, 3, 0, 0], [4, 10, 0, 0, 1]])\n",
        "print(A.nullspace())"
      ],
      "execution_count": 2,
      "outputs": [
        {
          "output_type": "stream",
          "text": [
            "[Matrix([\n",
            "[-15],\n",
            "[  6],\n",
            "[  1],\n",
            "[  0],\n",
            "[  0]]), Matrix([\n",
            "[0],\n",
            "[0],\n",
            "[0],\n",
            "[1],\n",
            "[0]]), Matrix([\n",
            "[   1],\n",
            "[-1/2],\n",
            "[   0],\n",
            "[   0],\n",
            "[   1]])]\n"
          ],
          "name": "stdout"
        }
      ]
    },
    {
      "cell_type": "code",
      "metadata": {
        "colab": {
          "base_uri": "https://localhost:8080/",
          "height": 58
        },
        "id": "HKHeI2bggrfq",
        "outputId": "b51aaf3d-efb9-425a-a073-4ea67e585526"
      },
      "source": [
        "# to be sure we multiply the nullspace by the second vector in the resulting matrix (nullspace matrix)\n",
        "A*A.nullspace()[1] "
      ],
      "execution_count": 6,
      "outputs": [
        {
          "output_type": "execute_result",
          "data": {
            "text/latex": "$\\displaystyle \\left[\\begin{matrix}0\\\\0\\end{matrix}\\right]$",
            "text/plain": [
              "Matrix([\n",
              "[0],\n",
              "[0]])"
            ]
          },
          "metadata": {
            "tags": []
          },
          "execution_count": 6
        }
      ]
    },
    {
      "cell_type": "code",
      "metadata": {
        "colab": {
          "base_uri": "https://localhost:8080/"
        },
        "id": "gLQ8wtUMgrfr",
        "outputId": "70d44ab7-fd32-4caf-f6b7-34b13b164f2e"
      },
      "source": [
        "# null space using numpy\n",
        "import numpy as np\n",
        "A_leftSide = np.array([[1, 2, 3, 0, 0], [4, 10, 0, 0, 1]])\n",
        "x_rightSide=np.array([0,0])\n",
        "\n",
        "print(np.linalg.lstsq(A_leftSide,x_rightSide, rcond=None))"
      ],
      "execution_count": 8,
      "outputs": [
        {
          "output_type": "stream",
          "text": [
            "(array([0., 0., 0., 0., 0.]), array([], dtype=float64), 2, array([11.05973286,  2.94657583]))\n"
          ],
          "name": "stdout"
        }
      ]
    },
    {
      "cell_type": "code",
      "metadata": {
        "colab": {
          "base_uri": "https://localhost:8080/"
        },
        "id": "34z93uI4grfr",
        "outputId": "922d374b-92a5-4392-be26-dcb6ebeb3b80"
      },
      "source": [
        "# check the resulting solution (0,0,0,0,0)\n",
        "unknownVector=np.linalg.lstsq(A_leftSide,x_rightSide, rcond=None)[0]\n",
        "print(unknownVector)\n",
        "print(np.asarray(unknownVector))\n",
        "np.set_printoptions(formatter={'float_kind':'{:f}'.format})# this line is to convert scientific notation to normal numbers before printing\n",
        "print(np.matmul(A_leftSide,np.asarray(unknownVector)))"
      ],
      "execution_count": 9,
      "outputs": [
        {
          "output_type": "stream",
          "text": [
            "[0. 0. 0. 0. 0.]\n",
            "[0. 0. 0. 0. 0.]\n",
            "[0.000000 0.000000]\n"
          ],
          "name": "stdout"
        }
      ]
    },
    {
      "cell_type": "markdown",
      "metadata": {
        "id": "LJCa5-UAiwYO"
      },
      "source": [
        "Nullspace and the relation with linear independence:\n",
        "\n",
        "if the column vectors of the square matrix (columns after making them vectors) are linearly independent, the nullspace of the matrix is only going to be the zero vector. In other words, if the nullspace of the matrix is the zero vector, the column vectors (the columns) of the matrix are linearly independent."
      ]
    },
    {
      "cell_type": "code",
      "metadata": {
        "colab": {
          "base_uri": "https://localhost:8080/"
        },
        "id": "R6ntVW3ugrft",
        "outputId": "f8a8eaf6-e390-4547-c809-ff7369e6c6d2"
      },
      "source": [
        "B=Matrix([[2,5,3],[1,1,1],[4,-2,0]]) # from sympy\n",
        "#myLinearlyIndependentColumns= Matrix([[2,1,4],[5,1,-2],[3,1,0]])\n",
        "B.nullspace() # the result is the zero vector. In the next cell, let us check if the column vectors are linearly independent"
      ],
      "execution_count": 10,
      "outputs": [
        {
          "output_type": "execute_result",
          "data": {
            "text/plain": [
              "[]"
            ]
          },
          "metadata": {
            "tags": []
          },
          "execution_count": 10
        }
      ]
    },
    {
      "cell_type": "code",
      "metadata": {
        "colab": {
          "base_uri": "https://localhost:8080/"
        },
        "id": "KaQSLNPZgrfv",
        "outputId": "109ea030-0dce-4aa7-9ab1-df4d936ee6c3"
      },
      "source": [
        "import numpy as np\n",
        "B=np.array([[2,5,3],[1,1,1],[4,-2,0]])\n",
        "print(B)\n",
        "print(np.linalg.det(B)) # the determinant is not zero. So, the matrix is linearly independent\n",
        "\n",
        "# here, we transpose the matrix\n",
        "V =  np.transpose(B)#transpose\n",
        "print(V)\n",
        "np.linalg.det(V) # the determinant is not zero. So, the transpose of the matrix is linearly independent"
      ],
      "execution_count": 11,
      "outputs": [
        {
          "output_type": "stream",
          "text": [
            "[[ 2  5  3]\n",
            " [ 1  1  1]\n",
            " [ 4 -2  0]]\n",
            "5.999999999999998\n",
            "[[ 2  1  4]\n",
            " [ 5  1 -2]\n",
            " [ 3  1  0]]\n"
          ],
          "name": "stdout"
        },
        {
          "output_type": "execute_result",
          "data": {
            "text/plain": [
              "5.999999999999996"
            ]
          },
          "metadata": {
            "tags": []
          },
          "execution_count": 11
        }
      ]
    },
    {
      "cell_type": "markdown",
      "metadata": {
        "id": "Po1Zt2RojBnW"
      },
      "source": [
        "The column space of a matrix is the set of all linear combinations of the columns of the matrix. For example, consider the matrix A, which has dimension 3x4. The column space for matrix A consists of four 3x1 vectors. And the four vectors constitute a spanning set."
      ]
    },
    {
      "cell_type": "code",
      "metadata": {
        "colab": {
          "base_uri": "https://localhost:8080/"
        },
        "id": "PKjRGWnNgrfx",
        "outputId": "390a1641-e349-4c8d-b7ed-1e1a628a2ca1"
      },
      "source": [
        "A = Matrix([[1,-1,2,0],[3,2,0,1],[-1,0,1,-2]])# from sympy\n",
        "A.columnspace()"
      ],
      "execution_count": 12,
      "outputs": [
        {
          "output_type": "execute_result",
          "data": {
            "text/plain": [
              "[Matrix([\n",
              " [ 1],\n",
              " [ 3],\n",
              " [-1]]), Matrix([\n",
              " [-1],\n",
              " [ 2],\n",
              " [ 0]]), Matrix([\n",
              " [2],\n",
              " [0],\n",
              " [1]])]"
            ]
          },
          "metadata": {
            "tags": []
          },
          "execution_count": 12
        }
      ]
    },
    {
      "cell_type": "markdown",
      "metadata": {
        "id": "kq489wZHjSlX"
      },
      "source": [
        "If a vector b is in the Column space of A, then b is the result of a linear combination of the column vectors in A. For example, I look at matrix A, and want to determine if vector b, shown here, is in the Column space A. We can know this by solving the equation and s the matrix is not a square matrix we can ONLY use lstsq (NOT solve)."
      ]
    },
    {
      "cell_type": "code",
      "metadata": {
        "colab": {
          "base_uri": "https://localhost:8080/"
        },
        "id": "SkYt4cu0grfy",
        "outputId": "805fabde-e48f-4ec6-e34b-b278e7584882"
      },
      "source": [
        "A_leftSide=np.array([[1,-1,2,0],[3,2,0,1],[-1,0,1,-2]])\n",
        "b_rightSide=np.array([13,1,0])\n",
        "\n",
        "print(np.linalg.lstsq(A_leftSide,b_rightSide, rcond=None))"
      ],
      "execution_count": 13,
      "outputs": [
        {
          "output_type": "stream",
          "text": [
            "(array([2.000000, -3.000000, 4.000000, 1.000000]), array([], dtype=float64), 3, array([4.052706, 2.564288, 1.732051]))\n"
          ],
          "name": "stdout"
        }
      ]
    },
    {
      "cell_type": "code",
      "metadata": {
        "colab": {
          "base_uri": "https://localhost:8080/"
        },
        "id": "HDCg74ZTgrfz",
        "outputId": "22dc9a1a-3b91-455f-b09a-7dc7194ed0c6"
      },
      "source": [
        "# check the resulting solution (2,3,4,1)\n",
        "unknownVector=np.linalg.lstsq(A_leftSide,b_rightSide, rcond=None)[0]\n",
        "print(unknownVector)\n",
        "print(np.asarray(unknownVector))\n",
        "np.set_printoptions(formatter={'float_kind':'{:f}'.format})# this line is to convert scientific notation to normal numbers before printing\n",
        "print(np.matmul(A_leftSide,np.asarray(unknownVector)))"
      ],
      "execution_count": 14,
      "outputs": [
        {
          "output_type": "stream",
          "text": [
            "[2.000000 -3.000000 4.000000 1.000000]\n",
            "[2.000000 -3.000000 4.000000 1.000000]\n",
            "[13.000000 1.000000 0.000000]\n"
          ],
          "name": "stdout"
        }
      ]
    }
  ]
}