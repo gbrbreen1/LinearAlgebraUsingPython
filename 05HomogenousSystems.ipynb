{
  "nbformat": 4,
  "nbformat_minor": 0,
  "metadata": {
    "kernelspec": {
      "display_name": "Python 3",
      "language": "python",
      "name": "python3"
    },
    "language_info": {
      "codemirror_mode": {
        "name": "ipython",
        "version": 3
      },
      "file_extension": ".py",
      "mimetype": "text/x-python",
      "name": "python",
      "nbconvert_exporter": "python",
      "pygments_lexer": "ipython3",
      "version": "3.6.2"
    },
    "colab": {
      "name": "05HomogenousSystems.ipynb",
      "provenance": []
    }
  },
  "cells": [
    {
      "cell_type": "markdown",
      "metadata": {
        "id": "SA_9Jtm5zpxt"
      },
      "source": [
        "\n",
        "<h1 align=center> Linear Algebra: Chapter 5 (Homogenous systems & linear independence)</h1>\n",
        "\n"
      ]
    },
    {
      "cell_type": "markdown",
      "metadata": {
        "id": "VdLwKMAC0IAj"
      },
      "source": [
        "This course is developed by Dr. Mohamed Gabr (gbrbreen2@gmail.com) as an introduction to mathematics for AI. The course focuses on using Python for Linear Algebra calculations."
      ]
    },
    {
      "cell_type": "markdown",
      "metadata": {
        "id": "RpKpOyIRFO8i"
      },
      "source": [
        "# homogenous systems"
      ]
    },
    {
      "cell_type": "markdown",
      "metadata": {
        "id": "ZGiuRmHbEV7B"
      },
      "source": [
        "Homogeneous systems of equations are set equal to 0, and then you try to find nonzero solutions — an interesting challenge. Homogenous systems of eqution has the below form\n",
        "\n",
        "ax+by+cz=0 & dx+ey+hz=0 & and so on\n",
        "\n",
        "Homogenous system of equations has two types of solutions; trivial solution & non-trivial solution. Unlike a general system of linear equations, a homogeneous system of linear equations always has at least one solution — a solution is guaranteed. The guaranteed solution occurs when you let each variable be equal to 0. The solution where everything is 0 is called the trivial solution.\n",
        "\n",
        "A homogeneous system of linear equations has a nontrivial solution if and only if the system has at least one free variable. A free variable (also called a parameter) is a variable that can be randomly assigned some numerical value. \n",
        "\n",
        " يمكن أن تعطيه أي قيمة رقمية\n",
        "\n",
        "The other variables are then related to the free variable through some algebraic rules."
      ]
    },
    {
      "cell_type": "code",
      "metadata": {
        "colab": {
          "base_uri": "https://localhost:8080/",
          "height": 246
        },
        "id": "aavABRCtEDIW",
        "outputId": "31859c8e-1821-4298-ecab-5685f5cfaae9"
      },
      "source": [
        "# a system with a trivial solution  (a guranteed solution that occurs when you let each variable be equal to 0) and no \n",
        "# nontrivial solutions\n",
        "\n",
        "# 3x+4y=0\n",
        "# 4x-2y=0\n",
        "\n",
        "import numpy as np\n",
        "leftSide=np.array([[3,4],[4,-2]])\n",
        "rightSide=np.array([0,0])\n",
        "\n",
        "print(np.linalg.solve(leftSide,rightSide))\n",
        "print('#########')\n",
        "print(np.linalg.lstsq(leftSide,rightSide, rcond=None))[0]"
      ],
      "execution_count": 2,
      "outputs": [
        {
          "output_type": "stream",
          "text": [
            "[0. 0.]\n",
            "#########\n",
            "(array([0., 0.]), array([], dtype=float64), 2, array([5.21699057, 4.21699057]))\n"
          ],
          "name": "stdout"
        },
        {
          "output_type": "error",
          "ename": "TypeError",
          "evalue": "ignored",
          "traceback": [
            "\u001b[0;31m---------------------------------------------------------------------------\u001b[0m",
            "\u001b[0;31mTypeError\u001b[0m                                 Traceback (most recent call last)",
            "\u001b[0;32m<ipython-input-2-aaa5726d0f9d>\u001b[0m in \u001b[0;36m<module>\u001b[0;34m()\u001b[0m\n\u001b[1;32m     11\u001b[0m \u001b[0mprint\u001b[0m\u001b[0;34m(\u001b[0m\u001b[0mnp\u001b[0m\u001b[0;34m.\u001b[0m\u001b[0mlinalg\u001b[0m\u001b[0;34m.\u001b[0m\u001b[0msolve\u001b[0m\u001b[0;34m(\u001b[0m\u001b[0mleftSide\u001b[0m\u001b[0;34m,\u001b[0m\u001b[0mrightSide\u001b[0m\u001b[0;34m)\u001b[0m\u001b[0;34m)\u001b[0m\u001b[0;34m\u001b[0m\u001b[0;34m\u001b[0m\u001b[0m\n\u001b[1;32m     12\u001b[0m \u001b[0mprint\u001b[0m\u001b[0;34m(\u001b[0m\u001b[0;34m'#########'\u001b[0m\u001b[0;34m)\u001b[0m\u001b[0;34m\u001b[0m\u001b[0;34m\u001b[0m\u001b[0m\n\u001b[0;32m---> 13\u001b[0;31m \u001b[0mprint\u001b[0m\u001b[0;34m(\u001b[0m\u001b[0mnp\u001b[0m\u001b[0;34m.\u001b[0m\u001b[0mlinalg\u001b[0m\u001b[0;34m.\u001b[0m\u001b[0mlstsq\u001b[0m\u001b[0;34m(\u001b[0m\u001b[0mleftSide\u001b[0m\u001b[0;34m,\u001b[0m\u001b[0mrightSide\u001b[0m\u001b[0;34m,\u001b[0m \u001b[0mrcond\u001b[0m\u001b[0;34m=\u001b[0m\u001b[0;32mNone\u001b[0m\u001b[0;34m)\u001b[0m\u001b[0;34m)\u001b[0m\u001b[0;34m[\u001b[0m\u001b[0;36m1\u001b[0m\u001b[0;34m]\u001b[0m\u001b[0;34m\u001b[0m\u001b[0;34m\u001b[0m\u001b[0m\n\u001b[0m",
            "\u001b[0;31mTypeError\u001b[0m: 'NoneType' object is not subscriptable"
          ]
        }
      ]
    },
    {
      "cell_type": "code",
      "metadata": {
        "colab": {
          "base_uri": "https://localhost:8080/"
        },
        "id": "v7g4krMSEDIZ",
        "outputId": "9b86bdd1-961e-47f2-90ec-69162f7a8958"
      },
      "source": [
        "# a system with a nontrivial solution but we cannot get it using numpy\n",
        "# x+3y-5z=0\n",
        "# 3x-y+5z=0\n",
        "# 3x+2y-z=0\n",
        "\n",
        "leftSide=np.array([[1,3,-5],[3,-1,5],[3,2,-1]])\n",
        "rightSide=np.array([0,0,0])\n",
        "\n",
        "print(np.linalg.solve(leftSide,rightSide))\n",
        "print('#########')\n",
        "print(np.linalg.lstsq(leftSide,rightSide, rcond=None)[0])"
      ],
      "execution_count": 3,
      "outputs": [
        {
          "output_type": "stream",
          "text": [
            "[ 0.  0. -0.]\n",
            "#########\n",
            "[0. 0. 0.]\n"
          ],
          "name": "stdout"
        }
      ]
    }
  ]
}