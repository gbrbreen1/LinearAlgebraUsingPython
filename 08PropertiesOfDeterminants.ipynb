{
  "nbformat": 4,
  "nbformat_minor": 0,
  "metadata": {
    "kernelspec": {
      "display_name": "Python 3",
      "language": "python",
      "name": "python3"
    },
    "language_info": {
      "codemirror_mode": {
        "name": "ipython",
        "version": 3
      },
      "file_extension": ".py",
      "mimetype": "text/x-python",
      "name": "python",
      "nbconvert_exporter": "python",
      "pygments_lexer": "ipython3",
      "version": "3.6.2"
    },
    "colab": {
      "name": "08PropertiesOfDeterminants.ipynb",
      "provenance": []
    }
  },
  "cells": [
    {
      "cell_type": "markdown",
      "metadata": {
        "id": "SA_9Jtm5zpxt"
      },
      "source": [
        "\n",
        "<h1 align=center> Linear Algebra: Chapter 8 (Properties of Determinants)</h1>\n",
        "\n"
      ]
    },
    {
      "cell_type": "markdown",
      "metadata": {
        "id": "VdLwKMAC0IAj"
      },
      "source": [
        "This course is developed by Dr. Mohamed Gabr (gbrbreen2@gmail.com) as an introduction to mathematics for AI. The course focuses on using Python for Linear Algebra calculations."
      ]
    },
    {
      "cell_type": "markdown",
      "metadata": {
        "id": "sz9HmpjAc-8K"
      },
      "source": [
        "The determinant of matrix A is equal to the determinant of the transpose of matrix A: det (A) = det (AT)."
      ]
    },
    {
      "cell_type": "code",
      "metadata": {
        "scrolled": true,
        "colab": {
          "base_uri": "https://localhost:8080/"
        },
        "id": "piEJ1wfWcx5c",
        "outputId": "43698dfe-4fcc-4d96-d342-9ab12d57913b"
      },
      "source": [
        "import numpy as np\n",
        "my3Matrix=np.array([[1,2,3],[4,5,0],[3,1,2]])\n",
        "print(np.linalg.det(my3Matrix))\n",
        "print('#############')\n",
        "\n",
        "my3MatrixTransposed=my3Matrix.transpose()\n",
        "print(np.linalg.det(my3MatrixTransposed))"
      ],
      "execution_count": 1,
      "outputs": [
        {
          "output_type": "stream",
          "text": [
            "-38.99999999999999\n",
            "#############\n",
            "-38.99999999999999\n"
          ],
          "name": "stdout"
        }
      ]
    },
    {
      "cell_type": "markdown",
      "metadata": {
        "id": "b6F3MpA8dYUm"
      },
      "source": [
        "The determinant of matrix A is equal to the reciprocal (multiplicative inverse of the determinant of the inverse of matrix A: \n",
        "\n",
        "det(A)=1/det(A**-1)"
      ]
    },
    {
      "cell_type": "code",
      "metadata": {
        "colab": {
          "base_uri": "https://localhost:8080/"
        },
        "id": "v764lWMLcx5e",
        "outputId": "d15c57b2-2c26-44c2-bec8-a2a9339f3e95"
      },
      "source": [
        "print(1/np.linalg.det(np.linalg.inv(my3Matrix)))"
      ],
      "execution_count": 2,
      "outputs": [
        {
          "output_type": "stream",
          "text": [
            "-38.99999999999999\n"
          ],
          "name": "stdout"
        }
      ]
    },
    {
      "cell_type": "markdown",
      "metadata": {
        "id": "haeDARoEdmDO"
      },
      "source": [
        "The inverse of a matrix exists only if the determinant is not equal to 0."
      ]
    },
    {
      "cell_type": "markdown",
      "metadata": {
        "id": "TVG-xZtAdrYd"
      },
      "source": [
        "The determinant of the matrix B when multiplied by the inverse matrix B-1 equals 1\n",
        "\n",
        "The determinant of the matrix resulting from multiplying the matrix B by the inverse matrix B-1 equals 1. Note that B multiplied by B-1 is the identity matrix. So the determinant of the identity matrix is 1"
      ]
    },
    {
      "cell_type": "code",
      "metadata": {
        "colab": {
          "base_uri": "https://localhost:8080/"
        },
        "id": "umSsxdU5cx5h",
        "outputId": "3f1bdfa1-6dde-46d0-9455-9e7c1535ad78"
      },
      "source": [
        "B=np.array([[1,3,3],[1,6,3],[1,3,4]])\n",
        "B_Inverse=np.linalg.inv(B)\n",
        "print(np.linalg.det(B))\n",
        "print('####################')\n",
        "print(np.linalg.det(B_Inverse))\n",
        "print('######################')\n",
        "print(np.linalg.det(B)*np.linalg.det(B_Inverse))# the multiplication of the matrix and the inverse is 1\n",
        "\n",
        "print('######################')\n",
        "print(np.matmul(B,B_Inverse)) # the result is the identity matrix\n",
        "print('######################')\n",
        "print(np.linalg.det(np.matmul(B,B_Inverse))) # the determinant of the identity matrix is 1"
      ],
      "execution_count": 3,
      "outputs": [
        {
          "output_type": "stream",
          "text": [
            "3.0000000000000004\n",
            "####################\n",
            "0.33333333333333315\n",
            "######################\n",
            "0.9999999999999996\n",
            "######################\n",
            "[[ 1.00000000e+00 -5.55111512e-17  0.00000000e+00]\n",
            " [ 0.00000000e+00  1.00000000e+00  0.00000000e+00]\n",
            " [ 0.00000000e+00 -5.55111512e-17  1.00000000e+00]]\n",
            "######################\n",
            "0.9999999999999999\n"
          ],
          "name": "stdout"
        }
      ]
    },
    {
      "cell_type": "markdown",
      "metadata": {
        "id": "g_sX15Cdd9Eo"
      },
      "source": [
        "Interchanging two rows (or columns) of a matrix results in a determinant of the opposite sign"
      ]
    },
    {
      "cell_type": "code",
      "metadata": {
        "colab": {
          "base_uri": "https://localhost:8080/"
        },
        "id": "gR0ZJDqMcx5i",
        "outputId": "cc667c30-4513-4f9e-92ea-589fbca78bdd"
      },
      "source": [
        "a3=np.array([[1,3,5],[1,6,0],[-2,3,4]])\n",
        "print(a3)\n",
        "print(np.linalg.det(a3))\n",
        "print('#####################')\n",
        "a3Interchange=np.array([[1,3,5],[-2,3,4],[1,6,0]])\n",
        "print(a3Interchange)\n",
        "print(np.linalg.det(a3Interchange))# the determinant is with an opposite sign after the interchange"
      ],
      "execution_count": 4,
      "outputs": [
        {
          "output_type": "stream",
          "text": [
            "[[ 1  3  5]\n",
            " [ 1  6  0]\n",
            " [-2  3  4]]\n",
            "87.0\n",
            "#####################\n",
            "[[ 1  3  5]\n",
            " [-2  3  4]\n",
            " [ 1  6  0]]\n",
            "-87.0\n"
          ],
          "name": "stdout"
        }
      ]
    },
    {
      "cell_type": "code",
      "metadata": {
        "colab": {
          "base_uri": "https://localhost:8080/"
        },
        "id": "KP8XQZiFcx5k",
        "outputId": "d120f1bf-a178-4e1d-928d-70f1593a93e9"
      },
      "source": [
        "#this is to know how to interchange rows\n",
        "\n",
        "a3=np.array([[1,3,5],[1,6,0],[-2,3,4]])\n",
        "print(a3)\n",
        "print('################')\n",
        "\n",
        "#the interchange process to be done here row by row . It is replacement not interchange\n",
        "print('row 0 before interchange: '+str(a3[0,:])) # print all the columns in row 0\n",
        "print('################')\n",
        "a3[0,:]=a3[1,:]\n",
        "print('row 0 after interchange: '+str(a3[0,:]))# print all the columns in row 0\n",
        "print('################')\n",
        "print('row 0 before interchange: '+str(a3[1,:])) # print all the columns in row 1\n",
        "print('################')\n",
        "\n",
        "a3[1,:]=a3[1,:]\n",
        "print('row 0 after interchange: '+str(a3[1,:])) # print all the columns in row 1\n",
        "print('################')\n",
        "print('The whole matrix after interchange: '+str(a3))# the final matrix after interchange"
      ],
      "execution_count": 5,
      "outputs": [
        {
          "output_type": "stream",
          "text": [
            "[[ 1  3  5]\n",
            " [ 1  6  0]\n",
            " [-2  3  4]]\n",
            "################\n",
            "row 0 before interchange: [1 3 5]\n",
            "################\n",
            "row 0 after interchange: [1 6 0]\n",
            "################\n",
            "row 0 before interchange: [1 6 0]\n",
            "################\n",
            "row 0 after interchange: [1 6 0]\n",
            "################\n",
            "The whole matrix after interchange: [[ 1  6  0]\n",
            " [ 1  6  0]\n",
            " [-2  3  4]]\n"
          ],
          "name": "stdout"
        }
      ]
    },
    {
      "cell_type": "code",
      "metadata": {
        "colab": {
          "base_uri": "https://localhost:8080/"
        },
        "id": "GbhPINMfcx5k",
        "outputId": "7bbb7397-3806-482f-d208-7b2e1e20f672"
      },
      "source": [
        "# here we do the interchange in one step\n",
        "a3=np.array([[1,3,5],[1,6,0],[-2,3,4]])\n",
        "print(a3)\n",
        "print('################')\n",
        "a3[0,:],a3[1,:],a3[2,:]=a3[1,:],a3[0,:],a3[2,:]\n",
        "print('the whole matric after interchange'+str(a3))"
      ],
      "execution_count": 6,
      "outputs": [
        {
          "output_type": "stream",
          "text": [
            "[[ 1  3  5]\n",
            " [ 1  6  0]\n",
            " [-2  3  4]]\n",
            "################\n",
            "the whole matric after interchange[[ 1  6  0]\n",
            " [ 1  6  0]\n",
            " [-2  3  4]]\n"
          ],
          "name": "stdout"
        }
      ]
    },
    {
      "cell_type": "code",
      "metadata": {
        "collapsed": true,
        "id": "eNIQomlrcx5l"
      },
      "source": [
        "# interchange two rows and interchange two columns of the same matrix?” Your instinct may be to say that the two actions \n",
        "# cancel one another out. Your instincts are right"
      ],
      "execution_count": 7,
      "outputs": []
    },
    {
      "cell_type": "code",
      "metadata": {
        "colab": {
          "base_uri": "https://localhost:8080/"
        },
        "id": "9BDGOOwJcx5l",
        "outputId": "01a61204-a781-49c7-a2e1-e7917313dbe3"
      },
      "source": [
        "a3=np.array([[1,-2,6],[1,0,2],[-5,3,1]])\n",
        "print(a3)\n",
        "print(np.linalg.det(a3))\n",
        "print('#####################')\n",
        "a3Interchange1=np.array([[-5,3,1],[1,0,2],[1,-2,6]])\n",
        "print(a3Interchange1)\n",
        "print(np.linalg.det(a3Interchange1))\n",
        "print('#####################')\n",
        "a3Interchange2=np.array([[3,-5,1],[0,1,2],[-2,1,6]])\n",
        "print(a3Interchange2)\n",
        "print(np.linalg.det(a3Interchange2))"
      ],
      "execution_count": 8,
      "outputs": [
        {
          "output_type": "stream",
          "text": [
            "[[ 1 -2  6]\n",
            " [ 1  0  2]\n",
            " [-5  3  1]]\n",
            "34.00000000000001\n",
            "#####################\n",
            "[[-5  3  1]\n",
            " [ 1  0  2]\n",
            " [ 1 -2  6]]\n",
            "-34.00000000000001\n",
            "#####################\n",
            "[[ 3 -5  1]\n",
            " [ 0  1  2]\n",
            " [-2  1  6]]\n",
            "34.00000000000001\n"
          ],
          "name": "stdout"
        }
      ]
    },
    {
      "cell_type": "markdown",
      "metadata": {
        "id": "HGCPYy-ueHeV"
      },
      "source": [
        "If a matrix has a row or column of zeros, then the determinant associated with that matrix is equal to zero."
      ]
    },
    {
      "cell_type": "code",
      "metadata": {
        "colab": {
          "base_uri": "https://localhost:8080/"
        },
        "id": "DCyxef0_cx5m",
        "outputId": "0276d351-80e6-4614-96a2-da7790f0b645"
      },
      "source": [
        "F=np.array([[0,0,0,0],[3,-2,5,-2],[0,6,1,6],[-3,1,4,1]])\n",
        "print(F)\n",
        "print(np.linalg.det(F))"
      ],
      "execution_count": 9,
      "outputs": [
        {
          "output_type": "stream",
          "text": [
            "[[ 0  0  0  0]\n",
            " [ 3 -2  5 -2]\n",
            " [ 0  6  1  6]\n",
            " [-3  1  4  1]]\n",
            "0.0\n"
          ],
          "name": "stdout"
        }
      ]
    },
    {
      "cell_type": "markdown",
      "metadata": {
        "id": "7XxjoXYjeOHO"
      },
      "source": [
        "If the corresponding elements in two rows (or columns) of a matrix are all equal, then the value of that determinant is zero."
      ]
    },
    {
      "cell_type": "code",
      "metadata": {
        "colab": {
          "base_uri": "https://localhost:8080/"
        },
        "id": "g5vlUUOocx5n",
        "outputId": "9a115e4f-3e2f-4ecf-fbe8-ee9372c5523e"
      },
      "source": [
        "F=np.array([[2,5,6,5],[3,-2,5,-2],[0,6,1,6],[-3,1,4,1]])\n",
        "print(F)\n",
        "print(np.linalg.det(F))"
      ],
      "execution_count": 10,
      "outputs": [
        {
          "output_type": "stream",
          "text": [
            "[[ 2  5  6  5]\n",
            " [ 3 -2  5 -2]\n",
            " [ 0  6  1  6]\n",
            " [-3  1  4  1]]\n",
            "0.0\n"
          ],
          "name": "stdout"
        }
      ]
    },
    {
      "cell_type": "markdown",
      "metadata": {
        "id": "Cx4IJkFqeV7O"
      },
      "source": [
        "If every element of a row (or column) of a matrix is multiplied by a particular scalar k, then the determinant of that matrix is k times the determinant of the original matrix"
      ]
    },
    {
      "cell_type": "code",
      "metadata": {
        "colab": {
          "base_uri": "https://localhost:8080/"
        },
        "id": "T7YdKyAtcx5n",
        "outputId": "152a9d5b-711e-4b61-eb88-34e5fac24f87"
      },
      "source": [
        "G=np.array([[2,3,5],[1/2,6,5/6],[-2,3,1]])\n",
        "print(np.linalg.det(G)*6)\n",
        "print('#################')\n",
        "print(6*np.linalg.det(G))"
      ],
      "execution_count": 11,
      "outputs": [
        {
          "output_type": "stream",
          "text": [
            "408.0000000000001\n",
            "#################\n",
            "408.0000000000001\n"
          ],
          "name": "stdout"
        }
      ]
    },
    {
      "cell_type": "markdown",
      "metadata": {
        "id": "2PN0yFzhecB2"
      },
      "source": [
        "A common situation in matrices used in practical applications is that you have one or more elements that are decimals. And the decimals often range in the number of places; you even find some matrices using scientific nota tion to represent the numbers.\n",
        "\n",
        "A number written in scientific notation consists of the product of (a) a number between 0 and 10 and (b) a power of 10.\n",
        "\n",
        "https://www.dummies.com/education/math/algebra/how-to-write-numbers-in-scientific-notation/"
      ]
    },
    {
      "cell_type": "code",
      "metadata": {
        "colab": {
          "base_uri": "https://localhost:8080/"
        },
        "id": "dykazlffcx5o",
        "outputId": "0ff3d236-8193-4c0a-926d-ad5bfa0d8782"
      },
      "source": [
        "H=np.array([[2*10**-4,5*10**-5,6*10**-6,5*10**-4],[3,-2,0.00005,-2],[0,6,0.0001,6],[-3,1,0.004,1]])\n",
        "print(np.linalg.det(H))\n",
        "print(np.linalg.det(H)*1000000)"
      ],
      "execution_count": 12,
      "outputs": [
        {
          "output_type": "stream",
          "text": [
            "-3.293999999999998e-05\n",
            "-32.939999999999976\n"
          ],
          "name": "stdout"
        }
      ]
    },
    {
      "cell_type": "markdown",
      "metadata": {
        "id": "YEqoq-KwetOm"
      },
      "source": [
        "If matrix A is an upper (or lower) triangular matrix, then the determinant of A is equal to the product of the elements lying on that main diagonal So, The determinant of an identity matrix is equal to 1."
      ]
    },
    {
      "cell_type": "code",
      "metadata": {
        "colab": {
          "base_uri": "https://localhost:8080/"
        },
        "id": "J949eK14cx5p",
        "outputId": "ad4e37f5-53ab-416b-e5c4-39cf844b7432"
      },
      "source": [
        "N=np.array([[2,1,4,3],[0,-2,1,-6],[0,0,7,2],[0,0,0,3]])\n",
        "print(np.linalg.det(N))\n",
        "print('diagonal product is: '+str(2*-2*7*3)) # same as the determinant"
      ],
      "execution_count": 13,
      "outputs": [
        {
          "output_type": "stream",
          "text": [
            "-83.99999999999999\n",
            "diagonal product is: -84\n"
          ],
          "name": "stdout"
        }
      ]
    },
    {
      "cell_type": "markdown",
      "metadata": {
        "id": "ps5p6gdie0_e"
      },
      "source": [
        "The determinant of an identity matrix is equal to 1."
      ]
    },
    {
      "cell_type": "code",
      "metadata": {
        "colab": {
          "base_uri": "https://localhost:8080/"
        },
        "id": "gzkkpMTscx5p",
        "outputId": "63a6f5fe-0a14-4fbb-cc2e-e1c17fa778e1"
      },
      "source": [
        "identityMatrix=np.array([[1,0,0],[0,1,0],[0,0,1]])\n",
        "print(np.linalg.det(identityMatrix))\n",
        "                    \n"
      ],
      "execution_count": 14,
      "outputs": [
        {
          "output_type": "stream",
          "text": [
            "1.0\n"
          ],
          "name": "stdout"
        }
      ]
    },
    {
      "cell_type": "markdown",
      "metadata": {
        "id": "lPlyl8DJe6uF"
      },
      "source": [
        "If a square matrix has 0s above or below the reverse diagonal (opposite of the main diagonal), then the value of the determinant of the matrix is either the product of the elements along that reverse diagonal or -1 times the product of the elements on that diagonal."
      ]
    },
    {
      "cell_type": "code",
      "metadata": {
        "colab": {
          "base_uri": "https://localhost:8080/"
        },
        "id": "BBVeIIZncx5p",
        "outputId": "5d27b8bc-d51d-4545-d046-c74b9796a7f7"
      },
      "source": [
        "triangularReverse=np.array([[0,0,5],[0,3,0],[4,0,0]])\n",
        "print(np.linalg.det(triangularReverse))"
      ],
      "execution_count": 15,
      "outputs": [
        {
          "output_type": "stream",
          "text": [
            "-59.999999999999986\n"
          ],
          "name": "stdout"
        }
      ]
    },
    {
      "cell_type": "markdown",
      "metadata": {
        "id": "o5j4Mn6TfEX9"
      },
      "source": [
        "If A and B are two nxn matrices, then det(AB) = [det(A)][det(B)].. Note that we will use square matrices here"
      ]
    },
    {
      "cell_type": "code",
      "metadata": {
        "colab": {
          "base_uri": "https://localhost:8080/"
        },
        "id": "TaY4ys6Vcx5q",
        "outputId": "ae5dd672-9b14-438b-f6ea-04015aaa51c5"
      },
      "source": [
        "A=np.array([[1,2,3],[4,5,0],[3,1,2]])\n",
        "B=np.array([[2,0,-1],[4,5,3],[1,1,7]])\n",
        "print(np.linalg.det(np.matmul(A,B)))\n",
        "print(np.linalg.det(A)*np.linalg.det(B))"
      ],
      "execution_count": 16,
      "outputs": [
        {
          "output_type": "stream",
          "text": [
            "-2534.999999999999\n",
            "-2535.0000000000014\n"
          ],
          "name": "stdout"
        }
      ]
    }
  ]
}